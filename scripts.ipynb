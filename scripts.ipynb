{
 "cells": [
  {
   "cell_type": "markdown",
   "id": "b913c4f3",
   "metadata": {},
   "source": [
    "# ADM 2021 Homework 1\n",
    "\n",
    "## Muhammad Mahir Latif\n",
    "\n",
    "### Matricola : 1998072 email: mahirlatif@live.com"
   ]
  },
  {
   "cell_type": "markdown",
   "id": "009957f7",
   "metadata": {},
   "source": [
    "# =============================================================="
   ]
  },
  {
   "cell_type": "markdown",
   "id": "de4a7e66",
   "metadata": {},
   "source": [
    "## Say \"Hello, World!\" With Python"
   ]
  },
  {
   "cell_type": "code",
   "execution_count": null,
   "id": "f1a287fc",
   "metadata": {},
   "outputs": [],
   "source": [
    "print(\"Hello, World!\")"
   ]
  },
  {
   "cell_type": "markdown",
   "id": "179c4192",
   "metadata": {},
   "source": [
    "## Python If-Else"
   ]
  },
  {
   "cell_type": "code",
   "execution_count": null,
   "id": "5eb40979",
   "metadata": {},
   "outputs": [],
   "source": [
    "#!/bin/python3\n",
    "\n",
    "import math\n",
    "import os\n",
    "import random\n",
    "import re\n",
    "import sys\n",
    "\n",
    "\n",
    "if __name__ == '__main__':\n",
    "    n = int(input().strip())\n",
    "    if (n%2 == 1) or (n%2 == 0 and n in range(6,21)):\n",
    "        print(\"Weird\")\n",
    "    else:\n",
    "        print(\"Not Weird\")"
   ]
  },
  {
   "cell_type": "markdown",
   "id": "db463a50",
   "metadata": {},
   "source": [
    "## Arithmetic Operators"
   ]
  },
  {
   "cell_type": "code",
   "execution_count": null,
   "id": "18ccb416",
   "metadata": {},
   "outputs": [],
   "source": [
    "if __name__ == '__main__':\n",
    "    a = int(input())\n",
    "    b = int(input())\n",
    "    \n",
    "    print(a+b)\n",
    "    print(a-b)\n",
    "    print(a*b)"
   ]
  },
  {
   "cell_type": "markdown",
   "id": "a39d81cf",
   "metadata": {},
   "source": [
    "## Python: Division"
   ]
  },
  {
   "cell_type": "code",
   "execution_count": null,
   "id": "cb5a702e",
   "metadata": {},
   "outputs": [],
   "source": [
    "if __name__ == '__main__':\n",
    "    a = int(input())\n",
    "    b = int(input())\n",
    "    \n",
    "    print(a//b)\n",
    "    print(a/b)"
   ]
  },
  {
   "cell_type": "markdown",
   "id": "8cef386a",
   "metadata": {},
   "source": [
    "## Loops"
   ]
  },
  {
   "cell_type": "code",
   "execution_count": null,
   "id": "632dfe46",
   "metadata": {},
   "outputs": [],
   "source": [
    "if __name__ == '__main__':\n",
    "    n = int(input())\n",
    "    \n",
    "    for i in range(0, n):\n",
    "        print(i**2)"
   ]
  },
  {
   "cell_type": "markdown",
   "id": "594718db",
   "metadata": {},
   "source": [
    "## Write a function"
   ]
  },
  {
   "cell_type": "code",
   "execution_count": null,
   "id": "da3317c3",
   "metadata": {},
   "outputs": [],
   "source": [
    "def is_leap(year):\n",
    "    leap = False\n",
    "    \n",
    "    # Write your logic here\n",
    "    \n",
    "    if year%400 == 0 or (year%4 == 0 and year%100 != 0):\n",
    "        leap = True\n",
    "\n",
    "    return leap\n",
    "\n",
    "year = int(input())\n",
    "print(is_leap(year))"
   ]
  },
  {
   "cell_type": "markdown",
   "id": "02b2daa1",
   "metadata": {},
   "source": [
    "## Print Function"
   ]
  },
  {
   "cell_type": "code",
   "execution_count": null,
   "id": "852106b9",
   "metadata": {},
   "outputs": [],
   "source": [
    "if __name__ == '__main__':\n",
    "    n = int(input())\n",
    "    i = 1\n",
    "    while n > 0:\n",
    "        print(i, end = \"\")\n",
    "        i += 1\n",
    "        n -= 1"
   ]
  },
  {
   "cell_type": "markdown",
   "id": "72e16cca-1d21-471a-abab-2f0d49ad74ec",
   "metadata": {},
   "source": [
    "## List Comprehensions"
   ]
  },
  {
   "cell_type": "code",
   "execution_count": null,
   "id": "31a3f06c",
   "metadata": {},
   "outputs": [],
   "source": [
    "if __name__ == '__main__':\n",
    "    x = int(input())\n",
    "    y = int(input())\n",
    "    z = int(input())\n",
    "    n = int(input())\n",
    "    \n",
    "    answer = [[i,j,k] for i in range(x+1) for j in range(y+1) for k in range(z+1) if i+j+k != n]\n",
    "    print(answer)"
   ]
  },
  {
   "cell_type": "markdown",
   "id": "dae2e62f-be61-4164-8f3f-d61c5cd4cec4",
   "metadata": {},
   "source": [
    " ## Find the Runner-Up Score!"
   ]
  },
  {
   "cell_type": "code",
   "execution_count": null,
   "id": "4df100fc",
   "metadata": {},
   "outputs": [],
   "source": [
    "if __name__ == '__main__':\n",
    "    n = int(input())\n",
    "    arr = map(int, input().split())\n",
    "    arr = sorted(list(set(arr)))\n",
    "    print(arr[-2])"
   ]
  },
  {
   "cell_type": "markdown",
   "id": "6aa8a0e4-1064-4643-b694-923202d43bab",
   "metadata": {},
   "source": [
    "## Nested Lists"
   ]
  },
  {
   "cell_type": "code",
   "execution_count": null,
   "id": "0b783386",
   "metadata": {},
   "outputs": [],
   "source": [
    "if __name__ == '__main__':\n",
    "\n",
    "    scores = []\n",
    "    nested = []\n",
    "    for _ in range(int(input())):\n",
    "        name = input()\n",
    "        score = float(input())\n",
    "        \n",
    "        nested.append([name, score])\n",
    "        scores.append(score)\n",
    "        \n",
    "    sec_lowest_score = sorted(list(set(scores)))[1]\n",
    "    \n",
    "    answer = []\n",
    "    for i in nested:\n",
    "        if i[1] == sec_lowest_score:\n",
    "            answer.append(i[0])\n",
    "            \n",
    "    for i in sorted(answer):\n",
    "        print(i)\n",
    "             "
   ]
  },
  {
   "cell_type": "markdown",
   "id": "6ea9d9e5-3ee0-4b5e-b4bd-be403a3e3afe",
   "metadata": {},
   "source": [
    "## Finding the percentage"
   ]
  },
  {
   "cell_type": "code",
   "execution_count": null,
   "id": "647c0976",
   "metadata": {},
   "outputs": [],
   "source": [
    "if __name__ == '__main__':\n",
    "    n = int(input())\n",
    "    student_marks = {}\n",
    "    for _ in range(n):\n",
    "        name, *line = input().split()\n",
    "        scores = list(map(float, line))\n",
    "        student_marks[name] = scores\n",
    "    query_name = input()\n",
    "    \n",
    "    query_scores = student_marks.get(query_name)\n",
    "    \n",
    "    print(\"{:.2f}\".format(sum(query_scores)/3))"
   ]
  },
  {
   "cell_type": "markdown",
   "id": "d9580fb8-372f-4dfa-b53b-2bbffd411bb7",
   "metadata": {},
   "source": [
    "## Text Alignment"
   ]
  },
  {
   "cell_type": "code",
   "execution_count": null,
   "id": "b654b925",
   "metadata": {},
   "outputs": [],
   "source": [
    "#Replace all ______ with rjust, ljust or center. \n",
    "\n",
    "thickness = int(input()) #This must be an odd number\n",
    "c = 'H'\n",
    "\n",
    "#Top Cone\n",
    "for i in range(thickness):\n",
    "    print((c*i).rjust(thickness-1)+c+(c*i).ljust(thickness-1))\n",
    "\n",
    "#Top Pillars\n",
    "for i in range(thickness+1):\n",
    "    print((c*thickness).center(thickness*2)+(c*thickness).center(thickness*6))\n",
    "\n",
    "#Middle Belt\n",
    "for i in range((thickness+1)//2):\n",
    "    print((c*thickness*5).center(thickness*6))    \n",
    "\n",
    "#Bottom Pillars\n",
    "for i in range(thickness+1):\n",
    "    print((c*thickness).center(thickness*2)+(c*thickness).center(thickness*6))    \n",
    "\n",
    "#Bottom Cone\n",
    "for i in range(thickness):\n",
    "    print(((c*(thickness-i-1)).rjust(thickness)+c+(c*(thickness-i-1)).ljust(thickness)).rjust(thickness*6))"
   ]
  },
  {
   "cell_type": "markdown",
   "id": "28505e26-8ea4-4988-8620-9a3dd1715e71",
   "metadata": {},
   "source": [
    "## Text Wrap"
   ]
  },
  {
   "cell_type": "code",
   "execution_count": null,
   "id": "d481dead",
   "metadata": {},
   "outputs": [],
   "source": [
    "import textwrap\n",
    "\n",
    "def wrap(string, max_width):\n",
    "    result = ''\n",
    "    for i in range(0,len(string),max_width):\n",
    "        result += string[i:i+max_width] + '\\n'\n",
    "    return result\n",
    "\n",
    "if __name__ == '__main__':\n",
    "    string, max_width = input(), int(input())\n",
    "    result = wrap(string, max_width)\n",
    "    print(result)"
   ]
  },
  {
   "cell_type": "markdown",
   "id": "e283455a-200c-4826-aa35-64735fe36a34",
   "metadata": {},
   "source": [
    "## Lists"
   ]
  },
  {
   "cell_type": "code",
   "execution_count": null,
   "id": "9d4e33d2",
   "metadata": {},
   "outputs": [],
   "source": [
    "if __name__ == '__main__':\n",
    "    N = int(input())\n",
    "    commands = []\n",
    "    for i in range(N):\n",
    "        commands.append(str(input()))\n",
    "      \n",
    "    arr =[]\n",
    "    for command in commands:\n",
    "        if command[:3] == 'ins':\n",
    "            arr.insert(int(command.split()[1]),int(command.split()[2]))\n",
    "        elif command == 'print':\n",
    "            print(arr)\n",
    "        elif command[:3] == 'rem':\n",
    "            arr.remove(int(command.split()[1]))\n",
    "        elif command[:3] == 'app':\n",
    "            arr.append(int(command.split()[1]))\n",
    "        elif command =='sort':\n",
    "            arr.sort()\n",
    "        elif command =='pop':\n",
    "            arr.pop()\n",
    "        elif command =='reverse':\n",
    "            arr.reverse()\n",
    "    "
   ]
  },
  {
   "cell_type": "markdown",
   "id": "dff84249-b749-48f9-b4d6-ea36ab7ef3cb",
   "metadata": {},
   "source": [
    "## Tuples"
   ]
  },
  {
   "cell_type": "code",
   "execution_count": null,
   "id": "7a47ec11",
   "metadata": {},
   "outputs": [],
   "source": [
    "if __name__ == '__main__':\n",
    "    n = int(input())\n",
    "    integer_list = map(int, input().split())\n",
    "    print(hash(tuple(integer_list)))"
   ]
  },
  {
   "cell_type": "markdown",
   "id": "e4417734-629d-4f23-b898-201e67eab872",
   "metadata": {},
   "source": [
    "## sWAP cASE"
   ]
  },
  {
   "cell_type": "code",
   "execution_count": null,
   "id": "b65a103d",
   "metadata": {},
   "outputs": [],
   "source": [
    "def swap_case(s):\n",
    "    return s.swapcase()\n",
    "\n",
    "if __name__ == '__main__':\n",
    "    s = input()\n",
    "    result = swap_case(s)\n",
    "    print(result)"
   ]
  },
  {
   "cell_type": "markdown",
   "id": "ee35419d-288c-4a74-b685-a933303a3692",
   "metadata": {},
   "source": [
    "## String Split and Join"
   ]
  },
  {
   "cell_type": "code",
   "execution_count": null,
   "id": "6bff2458",
   "metadata": {
    "tags": []
   },
   "outputs": [],
   "source": [
    "def split_and_join(line):\n",
    "    return \"-\".join(line.split(\" \"))\n",
    "\n",
    "\n",
    "if __name__ == '__main__':\n",
    "    line = input()\n",
    "    result = split_and_join(line)\n",
    "    print(result)"
   ]
  },
  {
   "cell_type": "markdown",
   "id": "fd9255b3-9ae5-4617-a261-7acaf398237e",
   "metadata": {},
   "source": [
    "## What's Your Name?"
   ]
  },
  {
   "cell_type": "code",
   "execution_count": null,
   "id": "377cec58",
   "metadata": {
    "tags": []
   },
   "outputs": [],
   "source": [
    "#\n",
    "# Complete the 'print_full_name' function below.\n",
    "#\n",
    "# The function is expected to return a STRING.\n",
    "# The function accepts following parameters:\n",
    "#  1. STRING first\n",
    "#  2. STRING last\n",
    "#\n",
    "\n",
    "def print_full_name(first, last):\n",
    "    # Write your code here\n",
    "    print(\"Hello \" + first + \" \" + last + \"! You just delved into python.\")\n",
    "\n",
    "if __name__ == '__main__':\n",
    "    first_name = input()\n",
    "    last_name = input()\n",
    "    print_full_name(first_name, last_name)"
   ]
  },
  {
   "cell_type": "markdown",
   "id": "f2b80d18-ba9e-472e-a304-ca74ed062638",
   "metadata": {},
   "source": [
    "## Mutations"
   ]
  },
  {
   "cell_type": "code",
   "execution_count": null,
   "id": "fee58281",
   "metadata": {},
   "outputs": [],
   "source": [
    "def mutate_string(string, position, character):\n",
    "    l = list(string)\n",
    "    l[position] = character\n",
    "    return ''.join(l)\n",
    "\n",
    "if __name__ == '__main__':\n",
    "    s = input()\n",
    "    i, c = input().split()\n",
    "    s_new = mutate_string(s, int(i), c)\n",
    "    print(s_new)"
   ]
  },
  {
   "cell_type": "markdown",
   "id": "20f5ad3b-1d49-4554-8693-a9de117610b3",
   "metadata": {},
   "source": [
    "## Find a string"
   ]
  },
  {
   "cell_type": "code",
   "execution_count": null,
   "id": "0db96cf0",
   "metadata": {},
   "outputs": [],
   "source": [
    "def count_substring(string, sub_string):\n",
    "    count = 0\n",
    "    for i in range(len(string)-len(sub_string)+2):\n",
    "        if sub_string == string[i:i+len(sub_string)]:\n",
    "            count += 1\n",
    "    return count\n",
    "\n",
    "if __name__ == '__main__':\n",
    "    string = input().strip()\n",
    "    sub_string = input().strip()\n",
    "    \n",
    "    count = count_substring(string, sub_string)\n",
    "    print(count)"
   ]
  },
  {
   "cell_type": "markdown",
   "id": "0e1c55b8-0f2a-43a6-9cc2-081c69324c6f",
   "metadata": {},
   "source": [
    "## String Validators"
   ]
  },
  {
   "cell_type": "code",
   "execution_count": null,
   "id": "307af816",
   "metadata": {},
   "outputs": [],
   "source": [
    "if __name__ == '__main__':\n",
    "    s = input()\n",
    "    alnum = False\n",
    "    alpha = False\n",
    "    digit = False\n",
    "    upper = False\n",
    "    lower = False\n",
    "    for ch in s:\n",
    "        if ch.isalnum():\n",
    "            alnum = True\n",
    "        if ch.isalpha():\n",
    "            alpha = True\n",
    "        if ch.isdigit():\n",
    "            digit = True\n",
    "        if ch.islower():\n",
    "            lower = True\n",
    "        if ch.isupper():\n",
    "            upper = True\n",
    "        \n",
    "    print(alnum)\n",
    "    print(alpha)\n",
    "    print(digit)\n",
    "    print(lower)\n",
    "    print(upper)\n",
    "    "
   ]
  },
  {
   "cell_type": "markdown",
   "id": "823ab0d1-dee6-4ab2-81ad-e4ade676ce2e",
   "metadata": {},
   "source": [
    "## Designer Door Mat"
   ]
  },
  {
   "cell_type": "code",
   "execution_count": null,
   "id": "d9691aee",
   "metadata": {},
   "outputs": [],
   "source": [
    "if __name__ == '__main__':\n",
    "    N, M = map(int, input().split())\n",
    "    diamond = 1\n",
    "    for n in range(N):\n",
    "        if n < (N/2) - 1:\n",
    "            print(\"-\"*int((M-diamond*3)/2)+\".|.\"*diamond+\"-\"*int((M-diamond*3)/2))\n",
    "            diamond += 2\n",
    "        elif n> (N/2) :\n",
    "            diamond -= 2\n",
    "            print(\"-\"*int((M-diamond*3)/2)+\".|.\"*diamond+\"-\"*int((M-diamond*3)/2))            \n",
    "        else:\n",
    "            print(\"-\"*int((M-7)/2)+\"WELCOME\"+\"-\"*int((M-7)/2))\n",
    "            "
   ]
  },
  {
   "cell_type": "markdown",
   "id": "02f6f78f-01bb-4c97-aa41-3174b6dfc04a",
   "metadata": {},
   "source": [
    "## String Formatting"
   ]
  },
  {
   "cell_type": "code",
   "execution_count": null,
   "id": "d38587e1",
   "metadata": {},
   "outputs": [],
   "source": [
    "def print_formatted(number):\n",
    "    # your code goes here\n",
    "    for i in range(1, number+1):\n",
    "        binary = str(bin(i))[2:]\n",
    "        octal = str(oct(i))[2:]\n",
    "        hexa = str(hex(i))[2:].upper()\n",
    "        spacing = len(bin(number)) -1\n",
    "        print(\" \" * (spacing -1 - len(str(i)))+str(i)+\n",
    "              \" \" * (spacing - len(octal))+str(octal)+\n",
    "              \" \" * (spacing - len(hexa)) + str(hexa)+\n",
    "              \" \" * (spacing - len(binary)) + str(binary))\n",
    "    return\n",
    "\n",
    "if __name__ == '__main__':\n",
    "    n = int(input())\n",
    "    print_formatted(n)"
   ]
  },
  {
   "cell_type": "markdown",
   "id": "3f43004c-84da-445d-a384-ba64214f5121",
   "metadata": {},
   "source": [
    "## Alphabet Rangoli"
   ]
  },
  {
   "cell_type": "code",
   "execution_count": null,
   "id": "4512fc8a-0bce-40fe-93dd-1eb65573ca8f",
   "metadata": {},
   "outputs": [],
   "source": [
    "def print_rangoli(size):\n",
    "    # your code goes here\n",
    "    alphabets = list(map(chr, range(97, 123)))\n",
    "    N = 2*size - 1\n",
    "    M = 4*size - 3\n",
    "    for row in range(N):\n",
    "        if row < size:\n",
    "            alpha = alphabets[(size-row)-1:size]\n",
    "            alpha_str = \"-\".join( alpha[::-1][:-1]+ alpha )\n",
    "            padding = \"-\"*int((M-len(alpha_str))/2)\n",
    "            print(padding + alpha_str + padding)\n",
    "        else:\n",
    "            row = N - row -1\n",
    "            alpha = alphabets[(size-row)-1:size]\n",
    "            alpha_str = \"-\".join(alpha[::-1][:-1]+ alpha )\n",
    "            padding = \"-\"*int((M-len(alpha_str))/2)\n",
    "            print(padding + alpha_str + padding)\n",
    "\n",
    "if __name__ == '__main__':\n",
    "    n = int(input())\n",
    "    print_rangoli(n)"
   ]
  },
  {
   "cell_type": "markdown",
   "id": "2aaf40b6-9b06-4b27-8727-a609a0a39248",
   "metadata": {},
   "source": [
    "## Capitalize!"
   ]
  },
  {
   "cell_type": "code",
   "execution_count": null,
   "id": "10607848-68e7-48a8-b385-fc028cbc99d6",
   "metadata": {},
   "outputs": [],
   "source": [
    "#!/bin/python3\n",
    "\n",
    "import math\n",
    "import os\n",
    "import random\n",
    "import re\n",
    "import sys\n",
    "\n",
    "# Complete the solve function below.\n",
    "def solve(s):\n",
    "    names= s.split(\" \")\n",
    "    result = [x[0:1].upper() + x[1:] for x in names]\n",
    "    return \" \".join(result)\n",
    "\n",
    "if __name__ == '__main__':\n",
    "    fptr = open(os.environ['OUTPUT_PATH'], 'w')\n",
    "\n",
    "    s = input()\n",
    "\n",
    "    result = solve(s)\n",
    "\n",
    "    fptr.write(result + '\\n')\n",
    "\n",
    "    fptr.close()\n"
   ]
  },
  {
   "cell_type": "markdown",
   "id": "cb695c3e-6883-45cc-96a4-8e491ba261d6",
   "metadata": {},
   "source": [
    "## The Minion Game"
   ]
  },
  {
   "cell_type": "code",
   "execution_count": null,
   "id": "7b182b9e-12f6-452a-ac97-3a6daf172a16",
   "metadata": {},
   "outputs": [],
   "source": [
    "def minion_game(string):\n",
    "    # your code goes here\n",
    "    vowels = 'AEIOU'\n",
    "    kev = 0\n",
    "    stu = 0\n",
    "    for char_idx in range(len(string)):\n",
    "        start_char = string[char_idx]\n",
    "        words = len(string) - char_idx\n",
    "        if start_char in vowels:\n",
    "            kev+= words\n",
    "        else:\n",
    "            stu+= words\n",
    "                \n",
    "    if kev > stu:\n",
    "        print('Kevin', kev)\n",
    "    elif stu > kev:\n",
    "        print('Stuart', stu)\n",
    "    else:\n",
    "        print('Draw')\n",
    "    \n",
    "    return\n",
    "                \n",
    "\n",
    "if __name__ == '__main__':\n",
    "    s = input()\n",
    "    minion_game(s)"
   ]
  },
  {
   "cell_type": "markdown",
   "id": "1af23606-e177-46b2-9f47-f776390f2e1b",
   "metadata": {},
   "source": [
    "## Merge the Tools!"
   ]
  },
  {
   "cell_type": "code",
   "execution_count": null,
   "id": "2bbeb464-50f2-4e9b-8341-8a1f9c01c8ad",
   "metadata": {},
   "outputs": [],
   "source": [
    "def merge_the_tools(string, k):\n",
    "    # your code goes here\n",
    "    for i in range(0,len(string),k):\n",
    "        subs = string[i:i+k]\n",
    "        print(\"\".join(list(dict.fromkeys(subs).keys())))\n",
    "    \n",
    "    return\n",
    "\n",
    "if __name__ == '__main__':\n",
    "    string, k = input(), int(input())\n",
    "    merge_the_tools(string, k)"
   ]
  },
  {
   "cell_type": "markdown",
   "id": "d21a2aa0-14a6-444e-9345-d8c1959d0656",
   "metadata": {},
   "source": [
    "## Introduction to Sets"
   ]
  },
  {
   "cell_type": "code",
   "execution_count": null,
   "id": "83326b56-6ea1-4b5b-9cae-e2e9e3e0185c",
   "metadata": {},
   "outputs": [],
   "source": [
    "def average(array):\n",
    "    # your code goes here\n",
    "    return sum(set(array))/len(set(array))\n",
    "\n",
    "if __name__ == '__main__':\n",
    "    n = int(input())\n",
    "    arr = list(map(int, input().split()))\n",
    "    result = average(arr)\n",
    "    print(result)"
   ]
  },
  {
   "cell_type": "markdown",
   "id": "5200d67d-8caa-4b7b-8aca-2a3b818e8ff8",
   "metadata": {},
   "source": [
    "## No Idea!"
   ]
  },
  {
   "cell_type": "code",
   "execution_count": null,
   "id": "047d43eb-499b-4ac6-83ba-1e2ff90ba2ee",
   "metadata": {},
   "outputs": [],
   "source": [
    "if __name__ == '__main__':\n",
    "    len_arr, len_m = map(int, input().split())\n",
    "    arr = list(map(int,input().split()))\n",
    "    A = set(map(int,input().split()))\n",
    "    B = set(map(int,input().split()))\n",
    "    happiness = 0\n",
    "    for element in arr:\n",
    "        if element in A:\n",
    "            happiness += 1\n",
    "        elif element in B:\n",
    "            happiness -= 1\n",
    "            \n",
    "    print(happiness)"
   ]
  },
  {
   "cell_type": "markdown",
   "id": "57b09042-3869-4d01-88d7-a878f0d2fdb4",
   "metadata": {},
   "source": [
    "## Symmetric Difference"
   ]
  },
  {
   "cell_type": "code",
   "execution_count": null,
   "id": "bc51161a-214c-442d-bcb8-3a1f32271b26",
   "metadata": {},
   "outputs": [],
   "source": [
    "if __name__ == '__main__':\n",
    "    len_M = input()\n",
    "    M = set(map(int,input().split()))\n",
    "    len_N = input()\n",
    "    N = set(map(int,input().split()))\n",
    "    \n",
    "    un = M.union(N)\n",
    "    rem = M.intersection(N)\n",
    "    arr = un.difference(rem)\n",
    "    \n",
    "    for element in sorted(list(arr)):\n",
    "        print(element)"
   ]
  },
  {
   "cell_type": "markdown",
   "id": "08fb4a3c-e69f-4ea9-a294-4773f907b51f",
   "metadata": {},
   "source": [
    "## Set .add()"
   ]
  },
  {
   "cell_type": "code",
   "execution_count": null,
   "id": "db8e4885-57e1-4284-af58-ff1d795b59bb",
   "metadata": {},
   "outputs": [],
   "source": [
    "if __name__ == '__main__':\n",
    "    len_N =  input()\n",
    "    stamp_set = set()\n",
    "    for i in range(int(len_N)):\n",
    "        stamp_set.add(input())\n",
    "    \n",
    "    print(len(stamp_set))\n",
    "   "
   ]
  },
  {
   "cell_type": "markdown",
   "id": "0bcf7594-19d8-449f-9c0a-54f8dadee52d",
   "metadata": {},
   "source": [
    "## Set .discard(), .remove() & .pop()"
   ]
  },
  {
   "cell_type": "code",
   "execution_count": null,
   "id": "3f10fa65-af09-4dae-8fa7-8765a7778218",
   "metadata": {},
   "outputs": [],
   "source": [
    "n = int(input())\n",
    "s = set(map(int, input().split()))\n",
    "len_commands = int(input())\n",
    "\n",
    "for _ in range(len_commands):\n",
    "    command = input()\n",
    "    if command[:3] == 'rem':\n",
    "        X = int(command.split()[1])\n",
    "        s.remove(X)\n",
    "    elif command[:3] == 'dis':\n",
    "        X = int(command.split()[1])\n",
    "        s.discard(X)\n",
    "    else:\n",
    "        s.pop()\n",
    "        \n",
    "print(sum(s))\n",
    "\n"
   ]
  },
  {
   "cell_type": "markdown",
   "id": "97b7a1e8-ede5-4b24-bb5a-3fc77d1abb07",
   "metadata": {},
   "source": [
    "## Set .union() Operation"
   ]
  },
  {
   "cell_type": "code",
   "execution_count": null,
   "id": "add8b4b8-bb4a-42d6-8014-baa7c66bed09",
   "metadata": {},
   "outputs": [],
   "source": [
    "len_eng = input()\n",
    "eng = set(input().split())\n",
    "len_fra = input()\n",
    "fra = set(input().split())\n",
    "\n",
    "print(len(eng.union(fra)))"
   ]
  },
  {
   "cell_type": "markdown",
   "id": "1f8e0db1-0b1b-4240-9dd5-a5e773bf769f",
   "metadata": {},
   "source": [
    "## Set .intersection() Operation"
   ]
  },
  {
   "cell_type": "code",
   "execution_count": null,
   "id": "9d3fae56-336c-4e63-855d-4c2244c635c9",
   "metadata": {},
   "outputs": [],
   "source": [
    "len_eng = input()\n",
    "eng = set(input().split())\n",
    "len_fra = input()\n",
    "fra = set(input().split())\n",
    "\n",
    "print(len(eng.intersection(fra)))"
   ]
  },
  {
   "cell_type": "markdown",
   "id": "4745ef92-4a3b-4a13-a2ce-c3e3933e3fab",
   "metadata": {},
   "source": [
    "## Set .difference() Operation"
   ]
  },
  {
   "cell_type": "code",
   "execution_count": null,
   "id": "bea388be-0d94-493f-be8c-a089f03532a8",
   "metadata": {},
   "outputs": [],
   "source": [
    "len_eng = input()\n",
    "eng = set(input().split())\n",
    "len_fra = input()\n",
    "fra = set(input().split())\n",
    "\n",
    "print(len(eng.difference(fra)))"
   ]
  },
  {
   "cell_type": "markdown",
   "id": "fd481934-87c1-400c-9c82-a46cb3cc22fc",
   "metadata": {},
   "source": [
    "## Set .symmetric_difference() Operation"
   ]
  },
  {
   "cell_type": "code",
   "execution_count": null,
   "id": "bfcbd1c7-7f4e-438a-a142-f98d63f5f642",
   "metadata": {},
   "outputs": [],
   "source": [
    "len_eng = input()\n",
    "eng = set(input().split())\n",
    "len_fra = input()\n",
    "fra = set(input().split())\n",
    "\n",
    "print(len(eng.symmetric_difference(fra)))"
   ]
  },
  {
   "cell_type": "markdown",
   "id": "170be086-243c-4b6f-839c-37273b50f34f",
   "metadata": {},
   "source": [
    "## Set Mutations"
   ]
  },
  {
   "cell_type": "code",
   "execution_count": null,
   "id": "0d3a2f2f-d74c-4003-9c02-aa1fc788b67e",
   "metadata": {},
   "outputs": [],
   "source": [
    "len_A = int(input())\n",
    "A = set(map(int, input().split()))\n",
    "len_sets = int(input())\n",
    "\n",
    "for _ in range(len_sets):\n",
    "    command, len_N = input().split()\n",
    "    N = set(map(int, input().split()))\n",
    "    \n",
    "    set_method = getattr(A, command)\n",
    "    \n",
    "    set_method(N)\n",
    "    \n",
    "        \n",
    "print(sum(A))\n",
    "\n"
   ]
  },
  {
   "cell_type": "markdown",
   "id": "64a1401e-4ceb-49ce-bd92-682393aaa18d",
   "metadata": {},
   "source": [
    "## The Captain's Room"
   ]
  },
  {
   "cell_type": "code",
   "execution_count": null,
   "id": "572f3753-4a37-49de-a407-d6a537d4f4d4",
   "metadata": {},
   "outputs": [],
   "source": [
    "K = int(input())\n",
    "room_list = sorted(list(map(int, input().split())))\n",
    "\n",
    "check = 0\n",
    "for i in range(0,len(room_list), K):\n",
    "    if len(set(room_list[i:i+K])) > 1:\n",
    "        print(room_list[i])\n",
    "        check = 1\n",
    "        break\n",
    "        \n",
    "if check == 0:\n",
    "    print(room_list[-1])\n",
    "    "
   ]
  },
  {
   "cell_type": "markdown",
   "id": "e90bf8fd-9ba6-4386-9b12-1c591a623ad9",
   "metadata": {
    "tags": []
   },
   "source": [
    "## Check Subset"
   ]
  },
  {
   "cell_type": "code",
   "execution_count": null,
   "id": "d06a8fbe-14b7-4a64-97db-6459219dbd5e",
   "metadata": {},
   "outputs": [],
   "source": [
    "T = int(input())\n",
    "\n",
    "for _ in range(T):\n",
    "    len_A = input()\n",
    "    A = set(map(int, input().split()))\n",
    "    len_B = input()\n",
    "    B = set(map(int, input().split()))\n",
    "    \n",
    "    if B.intersection(A) == A:\n",
    "        print(True)\n",
    "    else:\n",
    "        print(False)"
   ]
  },
  {
   "cell_type": "markdown",
   "id": "e6a90e03-2ae9-41b0-91af-721f66fcc9af",
   "metadata": {},
   "source": [
    "## Check Strict Superset"
   ]
  },
  {
   "cell_type": "code",
   "execution_count": null,
   "id": "b770f083-dfdc-4269-b068-cc4c099d30ea",
   "metadata": {},
   "outputs": [],
   "source": [
    "A = set(map(int, input().split()))\n",
    "n = int(input())\n",
    "\n",
    "ans = 0\n",
    "\n",
    "for _ in range(n):\n",
    "    B = set(map(int, input().split()))\n",
    "    \n",
    "    if A.issuperset(B) == True and len(A.difference(B))>0:\n",
    "        ans += 1\n",
    "\n",
    "if ans == n:\n",
    "    print(True)\n",
    "else: \n",
    "    print(False)"
   ]
  },
  {
   "cell_type": "markdown",
   "id": "c59b3932-3279-4e96-9219-d005606e83cc",
   "metadata": {},
   "source": [
    "## collections.Counter()"
   ]
  },
  {
   "cell_type": "code",
   "execution_count": null,
   "id": "6e9545e6-fdd8-4ba4-aeaf-9948c17f1cce",
   "metadata": {},
   "outputs": [],
   "source": [
    "#comments start from here on out. \n",
    "from collections import Counter\n",
    "\n",
    "#inputs\n",
    "shoes = int(input())\n",
    "sizes = list(map(int, input().split()))\n",
    "customers = int(input())\n",
    "\n",
    "counter = Counter(sizes) #stock\n",
    "\n",
    "paise = 0 #earnings\n",
    "\n",
    "for _ in range(customers):\n",
    "    #loop for each customer\n",
    "    size, price = map(int, input().split())\n",
    "    if counter[size] > 0:  # if shoe is in stock\n",
    "        paise+= price #add price to earnings\n",
    "        counter[size] -= 1 #reduce stock by 1\n",
    "        \n",
    "print(paise)"
   ]
  },
  {
   "cell_type": "markdown",
   "id": "b18044c6-5f5f-4ea7-8c08-675096fa818f",
   "metadata": {},
   "source": [
    "## DefaultDict Tutorial"
   ]
  },
  {
   "cell_type": "code",
   "execution_count": null,
   "id": "4308f7d7-74cd-4d10-baa2-aadc382e8a16",
   "metadata": {},
   "outputs": [],
   "source": [
    "from collections import defaultdict\n",
    "\n",
    "#inputs\n",
    "n,m = map(int, input().split())\n",
    "\n",
    "d = defaultdict(list) #dict for A. \n",
    "\n",
    "for i in range(n):\n",
    "    d[input()].append(i+1)  # word in A is key, position is value.\n",
    "    \n",
    "for _ in range(m):\n",
    "    #iterator for B\n",
    "    B = input()\n",
    "    if len(d[B]) == 0: #if B doesnt exist\n",
    "        print(\"-1\")\n",
    "    else:\n",
    "        print(*d[B]) # if it does, unpack list and print"
   ]
  },
  {
   "cell_type": "markdown",
   "id": "ae38bf46-b968-47b5-a9b3-44fb8ab587ba",
   "metadata": {},
   "source": [
    "## Collections.namedtuple()"
   ]
  },
  {
   "cell_type": "code",
   "execution_count": null,
   "id": "25638a2c-a179-4380-962f-ee0e92f89493",
   "metadata": {},
   "outputs": [],
   "source": [
    "#solve in 4 lines or less. hmmm. They didn't explain namedtuple very well. not going to use it. Also, comments don't count as lines of code.\n",
    "N = int(input())\n",
    "marks_index = input().split().index('MARKS') # get the column number of marks\n",
    "total_marks = sum([int(input().split()[marks_index]) for _ in range(N)]) #from input, append marks in a list and sum the list\n",
    "print(round(total_marks/N,2))\n",
    "# 4 lines. Booyah!"
   ]
  },
  {
   "cell_type": "markdown",
   "id": "7c42247a-5f35-42c2-b8f1-10b608e0b590",
   "metadata": {},
   "source": [
    "## Collections.OrderedDict()"
   ]
  },
  {
   "cell_type": "code",
   "execution_count": null,
   "id": "d9369308-7a32-464f-8dc3-7669d732686d",
   "metadata": {},
   "outputs": [],
   "source": [
    "N = int(input()) #items\n",
    "from collections import OrderedDict\n",
    "d = OrderedDict()\n",
    "for _ in range(N):\n",
    "    inp = input().split() #input array. names can have spaces too.\n",
    "    price = int(inp[-1])\n",
    "    name = \" \".join(inp[:-1])\n",
    "    try:\n",
    "        d[name] += price #add price if key exists\n",
    "    except:\n",
    "        d[name] = price #set price to key\n",
    "    \n",
    "for i in d.keys():\n",
    "    print(i, d[i])"
   ]
  },
  {
   "cell_type": "markdown",
   "id": "f9c1389a-e781-4e71-a0a8-e104ba8ce394",
   "metadata": {},
   "source": [
    "## Word Order"
   ]
  },
  {
   "cell_type": "code",
   "execution_count": null,
   "id": "834ec575-c23f-494e-91d2-16d09ebaa8f2",
   "metadata": {},
   "outputs": [],
   "source": [
    "\n",
    "from collections import OrderedDict\n",
    "d = OrderedDict()\n",
    "n = int(input())\n",
    "\n",
    "for _ in range(n):\n",
    "    word = input()  #input word\n",
    "    try:\n",
    "        d[word] += 1 #add occurence if key exists\n",
    "    except:\n",
    "        d[word] = 1 #set first occurence\n",
    "        \n",
    "print(len(d.keys()))\n",
    "print(*d.values())"
   ]
  },
  {
   "cell_type": "markdown",
   "id": "01060e96-513d-489d-8996-bd1d2bb35089",
   "metadata": {},
   "source": [
    "## Collections.deque()"
   ]
  },
  {
   "cell_type": "code",
   "execution_count": null,
   "id": "6ab2b980-5c00-4be3-b7d1-afb1c2893e6c",
   "metadata": {},
   "outputs": [],
   "source": [
    "from collections import deque\n",
    "\n",
    "N = int(input()) #input\n",
    "d = deque()\n",
    "\n",
    "for _ in range(N):\n",
    "    commandlist = input().split() #get command and value\n",
    "    method = getattr(d, commandlist[0]) #set method for command\n",
    "    if len(commandlist) == 2:\n",
    "        method(int(commandlist[1]))  #if value exists\n",
    "    else:\n",
    "        method()  # if method doesnt have value\n",
    "               \n",
    "print(*d)"
   ]
  },
  {
   "cell_type": "markdown",
   "id": "56847aed-fa14-4566-ae9f-0ed8837d9af2",
   "metadata": {},
   "source": [
    "## Company Logo"
   ]
  },
  {
   "cell_type": "code",
   "execution_count": null,
   "id": "329ed0c8-866b-4eb3-92d8-ae86aa1b6b07",
   "metadata": {},
   "outputs": [],
   "source": [
    "#input word\n",
    "charlist = sorted(list(input())) #sort the input to take care of alphabetical order\n",
    "from collections import OrderedDict\n",
    "d = OrderedDict()\n",
    "\n",
    "for char in charlist: \n",
    "    #fill dict with counts and alphabetical order of keys\n",
    "    try:\n",
    "        d[char] += 1 #add occurence if key exists\n",
    "    except:\n",
    "        d[char] = 1 #set first occurence\n",
    "    \n",
    "    \n",
    "\n",
    "ans = sorted(d.items(), key = lambda x: x[1] , reverse = True) #sort tuples of dict, use value as sorting, instead of key, sort in desc\n",
    "    \n",
    "for i in ans[:3]:\n",
    "    print(*i)"
   ]
  },
  {
   "cell_type": "markdown",
   "id": "f2cd1f7c-beba-4236-9b44-414fb1d88d8c",
   "metadata": {},
   "source": [
    "## Piling Up!\n"
   ]
  },
  {
   "cell_type": "code",
   "execution_count": null,
   "id": "ab8ccbe7-8e51-4043-98b2-99b7e964cb6a",
   "metadata": {},
   "outputs": [],
   "source": [
    "#inputs\n",
    "from collections import deque\n",
    "T = int(input())\n",
    "\n",
    "for _ in range(T):\n",
    "    n = int(input())\n",
    "    cubes = deque(map(int, input().split()))\n",
    "    base = 2**31  #starting side. consider ground, max+1\n",
    "    ans = 'Yes'\n",
    "    while len(cubes) > 0:\n",
    "        if min(cubes[0], cubes[-1]) > base: #if both sides larger\n",
    "            ans = 'No'\n",
    "            break\n",
    "        \n",
    "        if cubes[0] <= base and cubes[-1] <= base: # if both sides smalller than base, take the bigger one of the two\n",
    "            if cubes[0] > cubes[-1]:\n",
    "                base = cubes.popleft()\n",
    "            else:\n",
    "                base = cubes.pop()\n",
    "        else:                                    #else , take the side thats smaller than base\n",
    "            if cubes[0] < base:\n",
    "                base = cubes.popleft()\n",
    "            else:\n",
    "                base = cubes.pop()\n",
    "                \n",
    "            \n",
    "#         print(base)\n",
    "#         print(cubes)\n",
    "            \n",
    "    print(ans)\n",
    "    \n"
   ]
  },
  {
   "cell_type": "markdown",
   "id": "8174d226-0f57-41ea-a5d1-bff24b6df544",
   "metadata": {},
   "source": [
    "## Calendar Module"
   ]
  },
  {
   "cell_type": "code",
   "execution_count": null,
   "id": "e2a63206-1647-487c-be86-93f5f82fd52c",
   "metadata": {},
   "outputs": [],
   "source": [
    "import datetime\n",
    "import calendar\n",
    "\n",
    "m, d, y = map(int, input().split())\n",
    "date = datetime.datetime(y,m,d)\n",
    "print(calendar.day_name[date.weekday()].upper())"
   ]
  },
  {
   "cell_type": "markdown",
   "id": "89c38e71-c466-41c6-8bd5-56b5f0daeb35",
   "metadata": {},
   "source": [
    "## Time Delta"
   ]
  },
  {
   "cell_type": "code",
   "execution_count": null,
   "id": "1a5c782c-f70d-4452-84b5-dd15598fdcc3",
   "metadata": {},
   "outputs": [],
   "source": [
    "from datetime import datetime, timedelta\n",
    "\n",
    "T = int(input())\n",
    "for _ in range(T):\n",
    "    #date 1\n",
    "    day, date, mon, y, t, offset = input().split() #input time\n",
    "    sign,h,m = offset[0], offset[1:3], offset[3:] #housekeeping for offset\n",
    "    d1 = datetime.strptime(date+\"/\"+mon+\"/\"+y+\" \"+t, \"%d/%b/%Y %H:%M:%S\") #convert to datetime\n",
    "    #convert to UTC\n",
    "    if sign == '-':\n",
    "        d1 = d1 + timedelta(hours = int(h), minutes = int(m)) \n",
    "    else:\n",
    "        d1 = d1 - timedelta(hours = int(h), minutes = int(m))\n",
    "    #repeat all above for date 2\n",
    "    day, date, mon, y, t, offset = input().split()\n",
    "    sign,h,m = offset[0], offset[1:3], offset[3:]\n",
    "    d2 = datetime.strptime(date+\"/\"+mon+\"/\"+y+\" \"+t, \"%d/%b/%Y %H:%M:%S\")\n",
    "    if sign == '-':\n",
    "        d2 = d2 + timedelta(hours = int(h), minutes = int(m))\n",
    "    else:\n",
    "        d2 = d2 - timedelta(hours = int(h), minutes = int(m))\n",
    "        \n",
    "    print(int(abs((d1-d2).total_seconds()))) #diff in seconds\n",
    "            "
   ]
  },
  {
   "cell_type": "markdown",
   "id": "50fbc6d6",
   "metadata": {},
   "source": [
    "## Exceptions"
   ]
  },
  {
   "cell_type": "code",
   "execution_count": null,
   "id": "da366436",
   "metadata": {},
   "outputs": [],
   "source": [
    "T = int(input())\n",
    "\n",
    "for _ in range(T):\n",
    "    try:\n",
    "        a, b = map(int, input().split())\n",
    "        print(a//b)\n",
    "    except Exception as e:\n",
    "        print('Error Code:', e)"
   ]
  },
  {
   "cell_type": "markdown",
   "id": "162c6cb7",
   "metadata": {},
   "source": [
    "## Zipped!"
   ]
  },
  {
   "cell_type": "code",
   "execution_count": null,
   "id": "6c61da66",
   "metadata": {},
   "outputs": [],
   "source": [
    "students, subjects = map(int, input().split())\n",
    "marks = []\n",
    "for _ in range(subjects):\n",
    "    marks = marks + [map(float, input().split())] #make a list of the list of subject marks\n",
    "\n",
    "for i in zip(*marks):  #unpack the largest list into subject lists, then zip them to get each student\n",
    "    print(sum(i)/subjects) #print avg\n",
    "    "
   ]
  },
  {
   "cell_type": "markdown",
   "id": "f4fa2ae6",
   "metadata": {},
   "source": [
    "## Athlete Sort"
   ]
  },
  {
   "cell_type": "code",
   "execution_count": null,
   "id": "cba32786",
   "metadata": {},
   "outputs": [],
   "source": [
    "N, M = map(int, input().split())\n",
    "\n",
    "from collections import OrderedDict\n",
    "\n",
    "d = OrderedDict()\n",
    "\n",
    "for i in range(N):\n",
    "    name = 'Athlete '+ str(i+1) #give arbitrary key\n",
    "    d[name] = list(map(int, input().split())) #add attributes as list of values\n",
    "    \n",
    "K = int(input())\n",
    "\n",
    "ans = sorted(d.items(), key = lambda x: x[1][K]) #sort dict based on Kth attribute in values\n",
    "\n",
    "for i in ans:\n",
    "    print(*i[1])\n"
   ]
  },
  {
   "cell_type": "markdown",
   "id": "d605129a",
   "metadata": {},
   "source": [
    "## ginortS"
   ]
  },
  {
   "cell_type": "code",
   "execution_count": null,
   "id": "23723736",
   "metadata": {},
   "outputs": [],
   "source": [
    "S = input()\n",
    "upper, lower, even, odd = '', '', '', ''\n",
    "\n",
    "for char in S:\n",
    "    if char.isdigit():\n",
    "        if char in '02468':\n",
    "            even += char\n",
    "        else:\n",
    "            odd += char\n",
    "    else:\n",
    "        if char.islower():\n",
    "            lower += char\n",
    "        else:\n",
    "            upper += char\n",
    "            \n",
    "print(''.join(sorted(lower)+sorted(upper)+sorted(odd)+sorted(even)))\n"
   ]
  },
  {
   "cell_type": "markdown",
   "id": "bf3c81b4",
   "metadata": {},
   "source": [
    "## Map and Lambda Function"
   ]
  },
  {
   "cell_type": "code",
   "execution_count": null,
   "id": "27723a74",
   "metadata": {},
   "outputs": [],
   "source": [
    "cube = lambda x: x**3 # complete the lambda function \n",
    "\n",
    "def Fib(n): \n",
    "    if n == 0 or n == 1:\n",
    "        return n\n",
    "    else:\n",
    "        return Fib(n-1) + Fib(n-2)\n",
    "\n",
    "def fibonacci(n):\n",
    "    # return a list of fibonacci numbers\n",
    "    return [Fib(i) for i in range(n)]\n",
    "    \n",
    "\n",
    "if __name__ == '__main__':\n",
    "    n = int(input())\n",
    "    print(list(map(cube, fibonacci(n))))"
   ]
  },
  {
   "cell_type": "markdown",
   "id": "4814e2ae-d0d5-40d8-9dde-9d6a5a7c3779",
   "metadata": {},
   "source": [
    "## Birthday Cake Candles"
   ]
  },
  {
   "cell_type": "code",
   "execution_count": null,
   "id": "e2e28897",
   "metadata": {},
   "outputs": [],
   "source": [
    "n = int(input()) #no of candles\n",
    "from collections import Counter\n",
    "candles = Counter(map(int, input().split())) #add to counter\n",
    "\n",
    "print(candles[max(candles.keys())]) #take value of max key"
   ]
  },
  {
   "cell_type": "markdown",
   "id": "f392282b-a10b-471e-8579-f58a31299421",
   "metadata": {},
   "source": [
    "## Number Line Jumps"
   ]
  },
  {
   "cell_type": "code",
   "execution_count": null,
   "id": "929e3481-690c-47c9-ad27-42227cbda5b7",
   "metadata": {},
   "outputs": [],
   "source": [
    "#!/bin/python3\n",
    "\n",
    "import math\n",
    "import os\n",
    "import random\n",
    "import re\n",
    "import sys\n",
    "\n",
    "#\n",
    "# Complete the 'kangaroo' function below.\n",
    "#\n",
    "# The function is expected to return a STRING.\n",
    "# The function accepts following parameters:\n",
    "#  1. INTEGER x1\n",
    "#  2. INTEGER v1\n",
    "#  3. INTEGER x2\n",
    "#  4. INTEGER v2\n",
    "#\n",
    "\n",
    "def kangaroo(x1, v1, x2, v2):\n",
    "    # Write your code here\n",
    "    if (x2 > x1 and v2 > v1)  or (v1 == v2): #if the kangaroo at front has a bigger jump the one behind will never catch up. if same jumps, then one behind will always be behind\n",
    "        return 'NO'\n",
    "    elif (x2-x1)%(v2-v1) == 0: #if net jump distance each turn covers the distance between the kangaroos exactly.\n",
    "        return 'YES'\n",
    "    else:\n",
    "        return 'NO'\n",
    "                \n",
    "if __name__ == '__main__':\n",
    "    fptr = open(os.environ['OUTPUT_PATH'], 'w')\n",
    "\n",
    "    first_multiple_input = input().rstrip().split()\n",
    "\n",
    "    x1 = int(first_multiple_input[0])\n",
    "\n",
    "    v1 = int(first_multiple_input[1])\n",
    "\n",
    "    x2 = int(first_multiple_input[2])\n",
    "\n",
    "    v2 = int(first_multiple_input[3])\n",
    "\n",
    "    result = kangaroo(x1, v1, x2, v2)\n",
    "\n",
    "    fptr.write(result + '\\n')\n",
    "\n",
    "    fptr.close()\n"
   ]
  },
  {
   "cell_type": "markdown",
   "id": "e4867f3b-746b-4285-b112-86b361ea8035",
   "metadata": {},
   "source": [
    "## Viral Advertising"
   ]
  },
  {
   "cell_type": "code",
   "execution_count": null,
   "id": "fa64413a-831f-4669-a1f8-a25cd41b65fb",
   "metadata": {},
   "outputs": [],
   "source": [
    "#!/bin/python3\n",
    "\n",
    "import math\n",
    "import os\n",
    "import random\n",
    "import re\n",
    "import sys\n",
    "\n",
    "#\n",
    "# Complete the 'viralAdvertising' function below.\n",
    "#\n",
    "# The function is expected to return an INTEGER.\n",
    "# The function accepts INTEGER n as parameter.\n",
    "#\n",
    "\n",
    "def viralAdvertising(n):\n",
    "    # Write your code here\n",
    "    def day_shares(m):  #likes on any given day\n",
    "        if m == 1:\n",
    "            return 5\n",
    "        else:\n",
    "            return math.floor(day_shares(m-1)/2)*3\n",
    "    ans = 0\n",
    "    for i in range(n):\n",
    "        ans += math.floor(day_shares(i+1)/2)\n",
    "    \n",
    "    return ans\n",
    "        \n",
    "    \n",
    "\n",
    "if __name__ == '__main__':\n",
    "    fptr = open(os.environ['OUTPUT_PATH'], 'w')\n",
    "\n",
    "    n = int(input().strip())\n",
    "\n",
    "    result = viralAdvertising(n)\n",
    "\n",
    "    fptr.write(str(result) + '\\n')\n",
    "\n",
    "    fptr.close()\n"
   ]
  },
  {
   "cell_type": "markdown",
   "id": "2bd0b2f9-e50b-431e-a284-f57e1ca8f977",
   "metadata": {},
   "source": [
    "## Recursive Digit Sum"
   ]
  },
  {
   "cell_type": "code",
   "execution_count": null,
   "id": "3d2b8685-b01f-42ae-ba80-13e3d6b23d16",
   "metadata": {},
   "outputs": [],
   "source": [
    "#!/bin/python3\n",
    "\n",
    "import math\n",
    "import os\n",
    "import random\n",
    "import re\n",
    "import sys\n",
    "\n",
    "#\n",
    "# Complete the 'superDigit' function below.\n",
    "#\n",
    "# The function is expected to return an INTEGER.\n",
    "# The function accepts following parameters:\n",
    "#  1. STRING n\n",
    "#  2. INTEGER k\n",
    "#\n",
    "\n",
    "def superDigit(n, k):\n",
    "    # Write your code here\n",
    "    #single digits\n",
    "    if int(n) < 10:\n",
    "        return int(n)\n",
    "    \n",
    "    next_digit = 0\n",
    "    for digit in n: #summing of n's digits\n",
    "        next_digit += int(digit)\n",
    "    \n",
    "    next_digit *= k #sum should be k times\n",
    "            \n",
    "    return superDigit(str(next_digit), 1) #k = 1 after first call\n",
    "        \n",
    "    \n",
    "\n",
    "if __name__ == '__main__':\n",
    "    fptr = open(os.environ['OUTPUT_PATH'], 'w')\n",
    "\n",
    "    first_multiple_input = input().rstrip().split()\n",
    "\n",
    "    n = first_multiple_input[0]\n",
    "\n",
    "    k = int(first_multiple_input[1])\n",
    "\n",
    "    result = superDigit(n, k)\n",
    "\n",
    "    fptr.write(str(result) + '\\n')\n",
    "\n",
    "    fptr.close()\n"
   ]
  },
  {
   "cell_type": "markdown",
   "id": "6664f86f-ed96-4229-80a7-1872bde4ddc7",
   "metadata": {},
   "source": [
    "## Insertion Sort - Part 1"
   ]
  },
  {
   "cell_type": "code",
   "execution_count": null,
   "id": "5e3190b2-9950-4619-acb0-7fc1c3b6776e",
   "metadata": {},
   "outputs": [],
   "source": [
    "#!/bin/python3\n",
    "\n",
    "import math\n",
    "import os\n",
    "import random\n",
    "import re\n",
    "import sys\n",
    "\n",
    "#\n",
    "# Complete the 'insertionSort1' function below.\n",
    "#\n",
    "# The function accepts following parameters:\n",
    "#  1. INTEGER n\n",
    "#  2. INTEGER_ARRAY arr\n",
    "#\n",
    "\n",
    "def insertionSort1(n, arr):\n",
    "    # Write your code here\n",
    "    unsorted = arr[-1]\n",
    "    for i in range(n-2,-1, -1): #start with second last value and go left\n",
    "        if arr[i] >= unsorted: # if current value is bigger than unsorted value\n",
    "            arr[i+1] = arr[i] #set next index to current value\n",
    "            print(*arr)\n",
    "            if i == 0 : # if for loop is at first index\n",
    "                arr[0] = unsorted            \n",
    "                print(*arr)\n",
    "        else:\n",
    "            arr[i+1] = unsorted #set next index to unsorted value\n",
    "            print(*arr)\n",
    "            break\n",
    "        \n",
    "    return\n",
    "    \n",
    "\n",
    "if __name__ == '__main__':\n",
    "    n = int(input().strip())\n",
    "\n",
    "    arr = list(map(int, input().rstrip().split()))\n",
    "\n",
    "    insertionSort1(n, arr)\n"
   ]
  },
  {
   "cell_type": "markdown",
   "id": "07000652-9896-4ac2-bd39-780ae52ef229",
   "metadata": {},
   "source": [
    "## Insertion Sort - Part 2"
   ]
  },
  {
   "cell_type": "code",
   "execution_count": null,
   "id": "d13f5d28-a943-4245-8ea1-58e560d7735e",
   "metadata": {},
   "outputs": [],
   "source": [
    "#!/bin/python3\n",
    "\n",
    "import math\n",
    "import os\n",
    "import random\n",
    "import re\n",
    "import sys\n",
    "\n",
    "#\n",
    "# Complete the 'insertionSort2' function below.\n",
    "#\n",
    "# The function accepts following parameters:\n",
    "#  1. INTEGER n\n",
    "#  2. INTEGER_ARRAY arr\n",
    "#\n",
    "\n",
    "def insertionSort2(n, arr):\n",
    "    \n",
    "    def insertionSort1(n, arr):\n",
    "    # Write your code here\n",
    "        unsorted = arr[-1]\n",
    "        for i in range(n-2,-1, -1): #start with second last value and go left\n",
    "            if arr[i] >= unsorted: # if current value is bigger than unsorted value\n",
    "                arr[i+1] = arr[i] #set next index to current value\n",
    "                if i == 0 : # if for loop is at first index\n",
    "                    arr[0] = unsorted            \n",
    "            else:\n",
    "                arr[i+1] = unsorted #set next index to unsorted value\n",
    "                break  \n",
    "        return\n",
    "\n",
    "    for i in range(1,n): #repeat for multiple subsections\n",
    "        new_arr = arr[:i+1] #subsection of array where last element is unsorted\n",
    "        insertionSort1(len(new_arr), new_arr) #use sort1 to sort it\n",
    "        arr = new_arr + arr[i+1:] #combine it with the other subsection\n",
    "        print(*arr) #print entire\n",
    "    return\n",
    "\n",
    "if __name__ == '__main__':\n",
    "    n = int(input().strip())\n",
    "\n",
    "    arr = list(map(int, input().rstrip().split()))\n",
    "\n",
    "    insertionSort2(n, arr)\n"
   ]
  },
  {
   "cell_type": "markdown",
   "id": "46c8e8c1-1609-4034-8717-b2337c0cdd67",
   "metadata": {},
   "source": [
    "## XML 1 - Find the Score"
   ]
  },
  {
   "cell_type": "code",
   "execution_count": null,
   "id": "81ce48a1-508e-4c22-8ec6-b9f25356d102",
   "metadata": {},
   "outputs": [],
   "source": [
    "import sys\n",
    "import xml.etree.ElementTree as etree\n",
    "\n",
    "def get_attr_number(node):\n",
    "    count = len(node.attrib) # get attributes of node\n",
    "    for child in node: #if node has children\n",
    "        count += get_attr_number(child) #get count of attrib of each child recursively\n",
    "    return count\n",
    "    \n",
    "    \n",
    "\n",
    "if __name__ == '__main__':\n",
    "    sys.stdin.readline()\n",
    "    xml = sys.stdin.read()\n",
    "    tree = etree.ElementTree(etree.fromstring(xml))\n",
    "    root = tree.getroot()\n",
    "    print(get_attr_number(root))"
   ]
  },
  {
   "cell_type": "markdown",
   "id": "b91a4262-a24e-4764-84ac-8c24061e68d3",
   "metadata": {},
   "source": [
    "## XML2 - Find the Maximum Depth"
   ]
  },
  {
   "cell_type": "code",
   "execution_count": null,
   "id": "59411245-c875-4b2b-aebf-ae23d155afba",
   "metadata": {},
   "outputs": [],
   "source": [
    "import xml.etree.ElementTree as etree\n",
    "\n",
    "maxdepth = 0\n",
    "def depth(elem, level):\n",
    "    global maxdepth\n",
    "    \n",
    "    if (level == maxdepth): #ensure depth does not increase for multiple children at same level\n",
    "        maxdepth += 1\n",
    "        \n",
    "    for child in elem: #recursively check each child and add to depth. level same for all children at each level\n",
    "        depth(child, level + 1)\n",
    "\n",
    "if __name__ == '__main__':\n",
    "    n = int(input())\n",
    "    xml = \"\"\n",
    "    for i in range(n):\n",
    "        xml =  xml + input() + \"\\n\"\n",
    "    tree = etree.ElementTree(etree.fromstring(xml))\n",
    "    depth(tree.getroot(), -1)\n",
    "    print(maxdepth)"
   ]
  },
  {
   "cell_type": "markdown",
   "id": "5dfb1e3d-1aff-48bd-95d8-b1c9f986155c",
   "metadata": {},
   "source": [
    "## Detect Floating Point Number"
   ]
  },
  {
   "cell_type": "code",
   "execution_count": null,
   "id": "b429d262-c8c5-421f-844f-626713d5fe3b",
   "metadata": {},
   "outputs": [],
   "source": [
    "\n",
    "import re\n",
    "\n",
    "T = int(input())\n",
    "for _ in range(T):\n",
    "    N = input()\n",
    "    #check float conversion\n",
    "    try:\n",
    "        float(N)\n",
    "    except:\n",
    "        print('False')\n",
    "    else:\n",
    "    #regex check other conditions        \n",
    "        print(bool(re.match(r'(^[-+])?([0-9]+)?(.[0-9])', N))) #starts with +- , one or more occurences of digits, and digit after point\n",
    "    "
   ]
  },
  {
   "cell_type": "markdown",
   "id": "58a9fdea-4faa-402e-817c-47d27feaaae3",
   "metadata": {},
   "source": [
    "## Re.split()"
   ]
  },
  {
   "cell_type": "code",
   "execution_count": null,
   "id": "5a51bedd-57a2-4f63-81cd-3cd0eae9eb46",
   "metadata": {},
   "outputs": [],
   "source": [
    "regex_pattern = r\"[.,]\"\t# Do not delete 'r'.\n",
    "\n",
    "import re\n",
    "print(\"\\n\".join(re.split(regex_pattern, input())))"
   ]
  },
  {
   "cell_type": "markdown",
   "id": "3a999e64-ab37-4547-87f7-fd4af6f92fbc",
   "metadata": {},
   "source": [
    "## Arrays"
   ]
  },
  {
   "cell_type": "code",
   "execution_count": null,
   "id": "9a8b5f15-6747-4e89-8d58-2a0baf8695e6",
   "metadata": {},
   "outputs": [],
   "source": [
    "import numpy\n",
    "\n",
    "def arrays(arr):\n",
    "    # complete this function\n",
    "    # use numpy.array\n",
    "    import numpy as np\n",
    "    return np.array(arr, float)[::-1]\n",
    "\n",
    "arr = input().strip().split(' ')\n",
    "result = arrays(arr)\n",
    "print(result)"
   ]
  },
  {
   "cell_type": "markdown",
   "id": "63a666d9-54e5-44e6-bc81-61219b99f2cd",
   "metadata": {},
   "source": [
    "## Shape and Reshape"
   ]
  },
  {
   "cell_type": "code",
   "execution_count": null,
   "id": "ae1aa012-8411-45d4-8770-bc62513bd9d1",
   "metadata": {},
   "outputs": [],
   "source": [
    "import numpy as np\n",
    "\n",
    "print(np.reshape(np.array(input().split(), int), (3,3)))"
   ]
  },
  {
   "cell_type": "markdown",
   "id": "89f4c163-f210-4497-8717-869ab8a1736a",
   "metadata": {},
   "source": [
    "## Transpose and Flatten"
   ]
  },
  {
   "cell_type": "code",
   "execution_count": null,
   "id": "1d4ef970-0994-45c2-959a-506168724eba",
   "metadata": {},
   "outputs": [],
   "source": [
    "import numpy as np\n",
    "\n",
    "N, M = map(int, input().split())\n",
    "\n",
    "matrix = np.empty((0,M), int) #empty matrix\n",
    "\n",
    "for _ in range(int(N)):\n",
    "    matrix = np.append(matrix, np.array([list(map(int, input().split()))]), axis = 0)\n",
    "    \n",
    "print(np.transpose(matrix))\n",
    "print(matrix.flatten())"
   ]
  },
  {
   "cell_type": "markdown",
   "id": "569264bf-f483-47e7-b143-b05fff355976",
   "metadata": {},
   "source": [
    "## Concatenate"
   ]
  },
  {
   "cell_type": "code",
   "execution_count": null,
   "id": "992b096c-bb2e-4760-8d0b-5ad0bc76ab14",
   "metadata": {},
   "outputs": [],
   "source": [
    "import numpy as np\n",
    "\n",
    "N, M, P = map(int, input().split())\n",
    "\n",
    "matrix_N = np.empty((0,P), int) #empty matrix\n",
    "\n",
    "for _ in range(int(N)):\n",
    "    matrix_N = np.append(matrix_N, np.array([list(map(int, input().split()))]), axis = 0)\n",
    "    \n",
    "matrix_M = np.empty((0,P), int) #empty matrix\n",
    "\n",
    "for _ in range(int(M)):\n",
    "    matrix_M = np.append(matrix_M, np.array([list(map(int, input().split()))]), axis = 0)\n",
    "\n",
    "\n",
    "print(np.concatenate((matrix_N,matrix_M),axis = 0))"
   ]
  },
  {
   "cell_type": "markdown",
   "id": "9ba8ddcf-86e7-482a-9bc0-608e53d1dd20",
   "metadata": {},
   "source": [
    "## Zeros and Ones"
   ]
  },
  {
   "cell_type": "code",
   "execution_count": null,
   "id": "3e52aad9-fc5e-49b9-b88c-d1e7ed4b8a72",
   "metadata": {},
   "outputs": [],
   "source": [
    "import numpy as np\n",
    "\n",
    "dim = tuple(map(int, input().split()))\n",
    "\n",
    "print(np.zeros(dim, dtype = int))\n",
    "\n",
    "print(np.ones(dim, dtype = int))"
   ]
  },
  {
   "cell_type": "markdown",
   "id": "544926ac-cc91-47a0-8b85-e5baf25a3043",
   "metadata": {},
   "source": [
    "## Eye and Identity"
   ]
  },
  {
   "cell_type": "code",
   "execution_count": null,
   "id": "64c0f6b3-4bc8-41fe-9047-0cb096786b26",
   "metadata": {},
   "outputs": [],
   "source": [
    "import numpy as np\n",
    "np.set_printoptions(legacy = '1.13')\n",
    "\n",
    "N, M = map(int, input().split())\n",
    "\n",
    "print(np.eye(N,M))"
   ]
  },
  {
   "cell_type": "markdown",
   "id": "261451f1-5cce-411e-8bce-989e9a369a6e",
   "metadata": {},
   "source": [
    "## Array Mathematics"
   ]
  },
  {
   "cell_type": "code",
   "execution_count": null,
   "id": "c07d7dd0-ec08-4896-b7f7-4bcdc2abf9e8",
   "metadata": {},
   "outputs": [],
   "source": [
    "import numpy as np\n",
    "\n",
    "N,M = map(int, input().split())\n",
    "a = np.empty((0,M), int) #empty matrix\n",
    "\n",
    "b = np.empty((0,M), int) #empty matrix\n",
    "\n",
    "for _ in range(int(N)):\n",
    "    a = np.append(a, np.array([list(map(int, input().split()))]), axis = 0)\n",
    "    \n",
    "for _ in range(int(N)):\n",
    "    b = np.append(b, np.array([list(map(int, input().split()))]), axis = 0)\n",
    "\n",
    "print(a+b)\n",
    "print(a-b)\n",
    "print(a*b)\n",
    "print(a//b)\n",
    "print(a%b)\n",
    "print(a**b)\n"
   ]
  },
  {
   "cell_type": "markdown",
   "id": "fad2f372-6550-4f21-b439-3f5518c6479e",
   "metadata": {},
   "source": [
    "## Floor, Ceil and Rint"
   ]
  },
  {
   "cell_type": "code",
   "execution_count": null,
   "id": "27f71d5b-1360-480d-87c2-e75f71a4e754",
   "metadata": {},
   "outputs": [],
   "source": [
    "import numpy as np\n",
    "np.set_printoptions(legacy = '1.13')\n",
    "\n",
    "A = np.array(list(map(float, input().split())))\n",
    "\n",
    "print(np.floor(A))\n",
    "print(np.ceil(A))\n",
    "print(np.rint(A))"
   ]
  },
  {
   "cell_type": "markdown",
   "id": "73f26ad5-ed28-405b-aaa6-1d278fdf4e01",
   "metadata": {},
   "source": [
    "## Sum and Prod"
   ]
  },
  {
   "cell_type": "code",
   "execution_count": null,
   "id": "d833bdfb-1b5d-40b8-9895-29688aa6f9e4",
   "metadata": {},
   "outputs": [],
   "source": [
    "import numpy as np\n",
    "\n",
    "N,M = map(int, input().split())\n",
    "a = np.empty((0,M), int) #empty matrix\n",
    "\n",
    "\n",
    "for _ in range(int(N)):\n",
    "    a = np.append(a, np.array([list(map(int, input().split()))]), axis = 0)\n",
    "    \n",
    "print(np.prod(np.sum(a, axis = 0)))"
   ]
  },
  {
   "cell_type": "markdown",
   "id": "3b44b789-9f6c-4afe-b0a9-6e53cc4273a7",
   "metadata": {},
   "source": [
    "## Min and Max"
   ]
  },
  {
   "cell_type": "code",
   "execution_count": null,
   "id": "d9df4292-2c7f-4574-bc13-350540efb3f3",
   "metadata": {},
   "outputs": [],
   "source": [
    "import numpy as np\n",
    "\n",
    "N,M = map(int, input().split())\n",
    "a = np.empty((0,M), int) #empty matrix\n",
    "\n",
    "for _ in range(int(N)):\n",
    "    a = np.append(a, np.array([list(map(int, input().split()))]), axis = 0)\n",
    "    \n",
    "print(np.max(np.min(a,axis=1)))"
   ]
  },
  {
   "cell_type": "markdown",
   "id": "e089d350-16c0-4961-8eef-a4cb82a2e02a",
   "metadata": {},
   "source": [
    "## Mean, Var, and Std"
   ]
  },
  {
   "cell_type": "code",
   "execution_count": null,
   "id": "0ca6ba9c-6c5a-43a5-a9d7-366a37bbe554",
   "metadata": {},
   "outputs": [],
   "source": [
    "import numpy as np\n",
    "\n",
    "N,M = map(int, input().split())\n",
    "a = np.empty((0,M), int) #empty matrix\n",
    "\n",
    "for _ in range(int(N)):\n",
    "    a = np.append(a, np.array([list(map(int, input().split()))]), axis = 0)\n",
    "\n",
    "print(np.mean(a, axis = 1))\n",
    "print(np.var(a, axis = 0))\n",
    "print(round(np.std(a), 11))"
   ]
  },
  {
   "cell_type": "markdown",
   "id": "33868c23-e34a-4c2b-95b7-5580185d35d4",
   "metadata": {},
   "source": [
    "## Dot and Cross"
   ]
  },
  {
   "cell_type": "code",
   "execution_count": null,
   "id": "939059f9-b7d0-4338-ab79-5167b3bbcfab",
   "metadata": {},
   "outputs": [],
   "source": [
    "import numpy as np\n",
    "\n",
    "N = int(input())\n",
    "a = np.empty((0,N), int) #empty matrix\n",
    "\n",
    "b = np.empty((0,N), int) #empty matrix\n",
    "\n",
    "for _ in range(int(N)):\n",
    "    a = np.append(a, np.array([list(map(int, input().split()))]), axis = 0)\n",
    "    \n",
    "for _ in range(int(N)):\n",
    "    b = np.append(b, np.array([list(map(int, input().split()))]), axis = 0)\n",
    "\n",
    "print(np.dot(a,b))"
   ]
  },
  {
   "cell_type": "markdown",
   "id": "e83f7c77-a4e6-4a31-9605-b33d0cc6374c",
   "metadata": {},
   "source": [
    "## Inner and Outer"
   ]
  },
  {
   "cell_type": "code",
   "execution_count": null,
   "id": "84e2a0c9-0be8-4994-8b50-442287f9e1b0",
   "metadata": {},
   "outputs": [],
   "source": [
    "import numpy as np\n",
    "\n",
    "a = np.array(list(map(int, input().split())))\n",
    "b = np.array(list(map(int, input().split())))\n",
    "\n",
    "print(np.inner(a,b))\n",
    "print(np.outer(a,b))"
   ]
  },
  {
   "cell_type": "markdown",
   "id": "02cc6d3d-1728-4084-a105-e5b4ad65be7e",
   "metadata": {},
   "source": [
    "## Polynomials"
   ]
  },
  {
   "cell_type": "code",
   "execution_count": null,
   "id": "363c9374-cc3b-40dd-99bd-88595731eaa0",
   "metadata": {},
   "outputs": [],
   "source": [
    "import numpy as np\n",
    "coeffs =  np.array(list(map(float, input().split())))\n",
    "x = int(input())\n",
    "print(np.polyval(coeffs, x))"
   ]
  },
  {
   "cell_type": "markdown",
   "id": "866b53dd-986f-4ae6-8f6c-f5a7ca39a1c1",
   "metadata": {},
   "source": [
    "## Linear Algebra"
   ]
  },
  {
   "cell_type": "code",
   "execution_count": null,
   "id": "aad3a1ab-15d4-434c-a1f1-fdfd99c16e8e",
   "metadata": {},
   "outputs": [],
   "source": [
    "import numpy as np\n",
    "\n",
    "N = int(input())\n",
    "a = np.empty((0,N), int) #empty matrix\n",
    "\n",
    "for _ in range(int(N)):\n",
    "    a = np.append(a, np.array([list(map(float, input().split()))]), axis = 0)\n",
    "print(round(np.linalg.det(a),2))"
   ]
  }
 ],
 "metadata": {
  "kernelspec": {
   "display_name": "Python 3 (ipykernel)",
   "language": "python",
   "name": "python3"
  },
  "language_info": {
   "codemirror_mode": {
    "name": "ipython",
    "version": 3
   },
   "file_extension": ".py",
   "mimetype": "text/x-python",
   "name": "python",
   "nbconvert_exporter": "python",
   "pygments_lexer": "ipython3",
   "version": "3.9.7"
  }
 },
 "nbformat": 4,
 "nbformat_minor": 5
}
