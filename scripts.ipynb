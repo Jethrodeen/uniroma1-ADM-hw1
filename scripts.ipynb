{
 "cells": [
  {
   "cell_type": "markdown",
   "id": "b913c4f3",
   "metadata": {},
   "source": [
    "# ADM 2021 Homework 1\n",
    "\n",
    "## Muhammad Mahir Latif\n",
    "\n",
    "### Matricola : 1998072 email: mahirlatif@live.com"
   ]
  },
  {
   "cell_type": "markdown",
   "id": "009957f7",
   "metadata": {},
   "source": [
    "# =============================================================="
   ]
  },
  {
   "cell_type": "markdown",
   "id": "de4a7e66",
   "metadata": {},
   "source": [
    "## Say \"Hello, World!\" With Python"
   ]
  },
  {
   "cell_type": "code",
   "execution_count": null,
   "id": "f1a287fc",
   "metadata": {},
   "outputs": [],
   "source": [
    "print(\"Hello, World!\")"
   ]
  },
  {
   "cell_type": "markdown",
   "id": "179c4192",
   "metadata": {},
   "source": [
    "## Python If-Else"
   ]
  },
  {
   "cell_type": "code",
   "execution_count": null,
   "id": "5eb40979",
   "metadata": {},
   "outputs": [],
   "source": [
    "#!/bin/python3\n",
    "\n",
    "import math\n",
    "import os\n",
    "import random\n",
    "import re\n",
    "import sys\n",
    "\n",
    "\n",
    "if __name__ == '__main__':\n",
    "    n = int(input().strip())\n",
    "    if (n%2 == 1) or (n%2 == 0 and n in range(6,21)):\n",
    "        print(\"Weird\")\n",
    "    else:\n",
    "        print(\"Not Weird\")"
   ]
  },
  {
   "cell_type": "markdown",
   "id": "db463a50",
   "metadata": {},
   "source": [
    "## Arithmetic Operators"
   ]
  },
  {
   "cell_type": "code",
   "execution_count": null,
   "id": "18ccb416",
   "metadata": {},
   "outputs": [],
   "source": [
    "if __name__ == '__main__':\n",
    "    a = int(input())\n",
    "    b = int(input())\n",
    "    \n",
    "    print(a+b)\n",
    "    print(a-b)\n",
    "    print(a*b)"
   ]
  },
  {
   "cell_type": "markdown",
   "id": "a39d81cf",
   "metadata": {},
   "source": [
    "## Python: Division"
   ]
  },
  {
   "cell_type": "code",
   "execution_count": null,
   "id": "cb5a702e",
   "metadata": {},
   "outputs": [],
   "source": [
    "if __name__ == '__main__':\n",
    "    a = int(input())\n",
    "    b = int(input())\n",
    "    \n",
    "    print(a//b)\n",
    "    print(a/b)"
   ]
  },
  {
   "cell_type": "markdown",
   "id": "8cef386a",
   "metadata": {},
   "source": [
    "## Loops"
   ]
  },
  {
   "cell_type": "code",
   "execution_count": null,
   "id": "632dfe46",
   "metadata": {},
   "outputs": [],
   "source": [
    "if __name__ == '__main__':\n",
    "    n = int(input())\n",
    "    \n",
    "    for i in range(0, n):\n",
    "        print(i**2)"
   ]
  },
  {
   "cell_type": "markdown",
   "id": "594718db",
   "metadata": {},
   "source": [
    "## Write a function"
   ]
  },
  {
   "cell_type": "code",
   "execution_count": null,
   "id": "da3317c3",
   "metadata": {},
   "outputs": [],
   "source": [
    "def is_leap(year):\n",
    "    leap = False\n",
    "    \n",
    "    # Write your logic here\n",
    "    \n",
    "    if year%400 == 0 or (year%4 == 0 and year%100 != 0):\n",
    "        leap = True\n",
    "\n",
    "    return leap\n",
    "\n",
    "year = int(input())\n",
    "print(is_leap(year))"
   ]
  },
  {
   "cell_type": "markdown",
   "id": "02b2daa1",
   "metadata": {},
   "source": [
    "## Print Function"
   ]
  },
  {
   "cell_type": "code",
   "execution_count": null,
   "id": "852106b9",
   "metadata": {},
   "outputs": [],
   "source": [
    "if __name__ == '__main__':\n",
    "    n = int(input())\n",
    "    i = 1\n",
    "    while n > 0:\n",
    "        print(i, end = \"\")\n",
    "        i += 1\n",
    "        n -= 1"
   ]
  },
  {
   "cell_type": "code",
   "execution_count": null,
   "id": "c9a681bb",
   "metadata": {},
   "outputs": [],
   "source": [
    "## List Comprehensions"
   ]
  },
  {
   "cell_type": "code",
   "execution_count": null,
   "id": "31a3f06c",
   "metadata": {},
   "outputs": [],
   "source": [
    "if __name__ == '__main__':\n",
    "    x = int(input())\n",
    "    y = int(input())\n",
    "    z = int(input())\n",
    "    n = int(input())\n",
    "    \n",
    "    answer = [[i,j,k] for i in range(x+1) for j in range(y+1) for k in range(z+1) if i+j+k != n]\n",
    "    print(answer)"
   ]
  },
  {
   "cell_type": "code",
   "execution_count": null,
   "id": "b808f225",
   "metadata": {},
   "outputs": [],
   "source": [
    " ## Find the Runner-Up Score!"
   ]
  },
  {
   "cell_type": "code",
   "execution_count": 18,
   "id": "4df100fc",
   "metadata": {},
   "outputs": [
    {
     "name": "stdout",
     "output_type": "stream",
     "text": [
      "5\n",
      "6 8 5 9 5\n",
      "8\n"
     ]
    }
   ],
   "source": [
    "if __name__ == '__main__':\n",
    "    n = int(input())\n",
    "    arr = map(int, input().split())\n",
    "    arr = sorted(list(set(arr)))\n",
    "    print(arr[-2])"
   ]
  },
  {
   "cell_type": "code",
   "execution_count": null,
   "id": "40e74bc3",
   "metadata": {},
   "outputs": [],
   "source": [
    "## Nested Lists"
   ]
  },
  {
   "cell_type": "code",
   "execution_count": 24,
   "id": "0b783386",
   "metadata": {},
   "outputs": [
    {
     "name": "stdout",
     "output_type": "stream",
     "text": [
      "5\n",
      "har\n",
      "37\n",
      "berr\n",
      "37\n",
      "tina\n",
      "38\n",
      "ak\n",
      "41\n",
      "har\n",
      "39\n",
      "39.0\n",
      "har\n"
     ]
    }
   ],
   "source": [
    "if __name__ == '__main__':\n",
    "\n",
    "    scores = []\n",
    "    nested = []\n",
    "    for _ in range(int(input())):\n",
    "        name = input()\n",
    "        score = float(input())\n",
    "        \n",
    "        nested.append([name, score])\n",
    "        scores.append(score)\n",
    "        \n",
    "    sec_lowest_score = sorted(list(set(scores)))[1]\n",
    "    \n",
    "    answer = []\n",
    "    for i in nested:\n",
    "        if i[1] == sec_lowest_score:\n",
    "            answer.append(i[0])\n",
    "            \n",
    "    for i in sorted(answer):\n",
    "        print(i)\n",
    "             "
   ]
  },
  {
   "cell_type": "code",
   "execution_count": 21,
   "id": "60dda5dd",
   "metadata": {},
   "outputs": [
    {
     "data": {
      "text/plain": [
       "41.0"
      ]
     },
     "execution_count": 21,
     "metadata": {},
     "output_type": "execute_result"
    }
   ],
   "source": [
    "## Finding the percentage"
   ]
  },
  {
   "cell_type": "code",
   "execution_count": 35,
   "id": "647c0976",
   "metadata": {},
   "outputs": [
    {
     "name": "stdout",
     "output_type": "stream",
     "text": [
      "1\n",
      "mah 52 56 60\n",
      "mah\n",
      "56.000000\n"
     ]
    }
   ],
   "source": [
    "if __name__ == '__main__':\n",
    "    n = int(input())\n",
    "    student_marks = {}\n",
    "    for _ in range(n):\n",
    "        name, *line = input().split()\n",
    "        scores = list(map(float, line))\n",
    "        student_marks[name] = scores\n",
    "    query_name = input()\n",
    "    \n",
    "    query_scores = student_marks.get(query_name)\n",
    "    \n",
    "    print(\"{:.2f}\".format(sum(query_scores)/3))"
   ]
  },
  {
   "cell_type": "code",
   "execution_count": null,
   "id": "cae90893",
   "metadata": {},
   "outputs": [],
   "source": [
    "## Text Alignment"
   ]
  },
  {
   "cell_type": "code",
   "execution_count": 8,
   "id": "b654b925",
   "metadata": {},
   "outputs": [
    {
     "name": "stdout",
     "output_type": "stream",
     "text": [
      "2\n",
      " H \n",
      "HHH\n",
      " HH      HH     \n",
      " HH      HH     \n",
      " HH      HH     \n",
      " HHHHHHHHHH \n",
      " HH      HH     \n",
      " HH      HH     \n",
      " HH      HH     \n",
      "        HHH \n",
      "         H  \n"
     ]
    }
   ],
   "source": [
    "#Replace all ______ with rjust, ljust or center. \n",
    "\n",
    "thickness = int(input()) #This must be an odd number\n",
    "c = 'H'\n",
    "\n",
    "#Top Cone\n",
    "for i in range(thickness):\n",
    "    print((c*i).rjust(thickness-1)+c+(c*i).ljust(thickness-1))\n",
    "\n",
    "#Top Pillars\n",
    "for i in range(thickness+1):\n",
    "    print((c*thickness).center(thickness*2)+(c*thickness).center(thickness*6))\n",
    "\n",
    "#Middle Belt\n",
    "for i in range((thickness+1)//2):\n",
    "    print((c*thickness*5).center(thickness*6))    \n",
    "\n",
    "#Bottom Pillars\n",
    "for i in range(thickness+1):\n",
    "    print((c*thickness).center(thickness*2)+(c*thickness).center(thickness*6))    \n",
    "\n",
    "#Bottom Cone\n",
    "for i in range(thickness):\n",
    "    print(((c*(thickness-i-1)).rjust(thickness)+c+(c*(thickness-i-1)).ljust(thickness)).rjust(thickness*6))"
   ]
  },
  {
   "cell_type": "code",
   "execution_count": null,
   "id": "f90cdb7a",
   "metadata": {},
   "outputs": [],
   "source": [
    "## Text Wrap"
   ]
  },
  {
   "cell_type": "code",
   "execution_count": null,
   "id": "d481dead",
   "metadata": {},
   "outputs": [],
   "source": [
    "import textwrap\n",
    "\n",
    "def wrap(string, max_width):\n",
    "    result = ''\n",
    "    for i in range(0,len(string),max_width):\n",
    "        result += string[i:i+max_width] + '\\n'\n",
    "    return result\n",
    "\n",
    "if __name__ == '__main__':\n",
    "    string, max_width = input(), int(input())\n",
    "    result = wrap(string, max_width)\n",
    "    print(result)"
   ]
  },
  {
   "cell_type": "code",
   "execution_count": null,
   "id": "7f109123",
   "metadata": {},
   "outputs": [],
   "source": [
    "## Lists"
   ]
  },
  {
   "cell_type": "code",
   "execution_count": 21,
   "id": "9d4e33d2",
   "metadata": {},
   "outputs": [
    {
     "name": "stdout",
     "output_type": "stream",
     "text": [
      "1\n",
      "print\n",
      "[]\n"
     ]
    }
   ],
   "source": [
    "if __name__ == '__main__':\n",
    "    N = int(input())\n",
    "    commands = []\n",
    "    for i in range(N):\n",
    "        commands.append(str(input()))\n",
    "      \n",
    "    arr =[]\n",
    "    for command in commands:\n",
    "        if command[:3] == 'ins':\n",
    "            arr.insert(int(command.split()[1]),int(command.split()[2]))\n",
    "        elif command == 'print':\n",
    "            print(arr)\n",
    "        elif command[:3] == 'rem':\n",
    "            arr.remove(int(command.split()[1]))\n",
    "        elif command[:3] == 'app':\n",
    "            arr.append(int(command.split()[1]))\n",
    "        elif command =='sort':\n",
    "            arr.sort()\n",
    "        elif command =='pop':\n",
    "            arr.pop()\n",
    "        elif command =='reverse':\n",
    "            arr.reverse()\n",
    "    "
   ]
  },
  {
   "cell_type": "code",
   "execution_count": 16,
   "id": "a3435233",
   "metadata": {},
   "outputs": [
    {
     "data": {
      "text/plain": [
       "['hello 1', 'hll', 'a', 'hello 3 2']"
      ]
     },
     "execution_count": 16,
     "metadata": {},
     "output_type": "execute_result"
    }
   ],
   "source": [
    "## Tuples"
   ]
  },
  {
   "cell_type": "code",
   "execution_count": 25,
   "id": "7a47ec11",
   "metadata": {},
   "outputs": [
    {
     "name": "stdout",
     "output_type": "stream",
     "text": [
      "2\n",
      "1 2\n",
      "-3550055125485641917\n"
     ]
    }
   ],
   "source": [
    "if __name__ == '__main__':\n",
    "    n = int(input())\n",
    "    integer_list = map(int, input().split())\n",
    "    print(hash(tuple(integer_list)))"
   ]
  },
  {
   "cell_type": "code",
   "execution_count": 24,
   "id": "5628ed40",
   "metadata": {},
   "outputs": [
    {
     "data": {
      "text/plain": [
       "map"
      ]
     },
     "execution_count": 24,
     "metadata": {},
     "output_type": "execute_result"
    }
   ],
   "source": [
    "## sWAP cASE"
   ]
  },
  {
   "cell_type": "code",
   "execution_count": null,
   "id": "b65a103d",
   "metadata": {},
   "outputs": [],
   "source": [
    "def swap_case(s):\n",
    "    return s.swapcase()\n",
    "\n",
    "if __name__ == '__main__':\n",
    "    s = input()\n",
    "    result = swap_case(s)\n",
    "    print(result)"
   ]
  },
  {
   "cell_type": "code",
   "execution_count": null,
   "id": "e85a9bd7",
   "metadata": {},
   "outputs": [],
   "source": [
    "## String Split and Join"
   ]
  },
  {
   "cell_type": "code",
   "execution_count": null,
   "id": "6bff2458",
   "metadata": {
    "tags": []
   },
   "outputs": [],
   "source": [
    "def split_and_join(line):\n",
    "    return \"-\".join(line.split(\" \"))\n",
    "\n",
    "\n",
    "if __name__ == '__main__':\n",
    "    line = input()\n",
    "    result = split_and_join(line)\n",
    "    print(result)"
   ]
  },
  {
   "cell_type": "code",
   "execution_count": null,
   "id": "80d0d0a5",
   "metadata": {},
   "outputs": [],
   "source": [
    "## What's Your Name?"
   ]
  },
  {
   "cell_type": "code",
   "execution_count": 27,
   "id": "377cec58",
   "metadata": {
    "tags": []
   },
   "outputs": [
    {
     "name": "stdout",
     "output_type": "stream",
     "text": [
      "Mahir\n",
      "Latif\n",
      "Hello Mahir Latif! You just delved into python.\n"
     ]
    }
   ],
   "source": [
    "#\n",
    "# Complete the 'print_full_name' function below.\n",
    "#\n",
    "# The function is expected to return a STRING.\n",
    "# The function accepts following parameters:\n",
    "#  1. STRING first\n",
    "#  2. STRING last\n",
    "#\n",
    "\n",
    "def print_full_name(first, last):\n",
    "    # Write your code here\n",
    "    print(\"Hello \" + first + \" \" + last + \"! You just delved into python.\")\n",
    "\n",
    "if __name__ == '__main__':\n",
    "    first_name = input()\n",
    "    last_name = input()\n",
    "    print_full_name(first_name, last_name)"
   ]
  },
  {
   "cell_type": "code",
   "execution_count": null,
   "id": "171f5b2e",
   "metadata": {},
   "outputs": [],
   "source": [
    "## Mutations"
   ]
  },
  {
   "cell_type": "code",
   "execution_count": null,
   "id": "fee58281",
   "metadata": {},
   "outputs": [],
   "source": [
    "def mutate_string(string, position, character):\n",
    "    l = list(string)\n",
    "    l[position] = character\n",
    "    return ''.join(l)\n",
    "\n",
    "if __name__ == '__main__':\n",
    "    s = input()\n",
    "    i, c = input().split()\n",
    "    s_new = mutate_string(s, int(i), c)\n",
    "    print(s_new)"
   ]
  },
  {
   "cell_type": "code",
   "execution_count": null,
   "id": "6edde9ea",
   "metadata": {},
   "outputs": [],
   "source": [
    "## Find a string"
   ]
  },
  {
   "cell_type": "code",
   "execution_count": 29,
   "id": "0db96cf0",
   "metadata": {},
   "outputs": [
    {
     "name": "stdout",
     "output_type": "stream",
     "text": [
      "ABCDCDC\n",
      "CDC\n",
      "1\n"
     ]
    }
   ],
   "source": [
    "def count_substring(string, sub_string):\n",
    "    count = 0\n",
    "    for i in range(len(string)-len(sub_string)+2):\n",
    "        if sub_string == string[i:i+len(sub_string)]:\n",
    "            count += 1\n",
    "    return count\n",
    "\n",
    "if __name__ == '__main__':\n",
    "    string = input().strip()\n",
    "    sub_string = input().strip()\n",
    "    \n",
    "    count = count_substring(string, sub_string)\n",
    "    print(count)"
   ]
  },
  {
   "cell_type": "code",
   "execution_count": null,
   "id": "07f30cb9",
   "metadata": {},
   "outputs": [],
   "source": [
    "## String Validators"
   ]
  },
  {
   "cell_type": "code",
   "execution_count": 32,
   "id": "307af816",
   "metadata": {},
   "outputs": [
    {
     "name": "stdout",
     "output_type": "stream",
     "text": [
      "qA2\n",
      "True\n",
      "True\n",
      "True\n",
      "True\n",
      "True\n"
     ]
    }
   ],
   "source": [
    "if __name__ == '__main__':\n",
    "    s = input()\n",
    "    alnum = False\n",
    "    alpha = False\n",
    "    digit = False\n",
    "    upper = False\n",
    "    lower = False\n",
    "    for ch in s:\n",
    "        if ch.isalnum():\n",
    "            alnum = True\n",
    "        if ch.isalpha():\n",
    "            alpha = True\n",
    "        if ch.isdigit():\n",
    "            digit = True\n",
    "        if ch.islower():\n",
    "            lower = True\n",
    "        if ch.isupper():\n",
    "            upper = True\n",
    "        \n",
    "    print(alnum)\n",
    "    print(alpha)\n",
    "    print(digit)\n",
    "    print(lower)\n",
    "    print(upper)\n",
    "    "
   ]
  },
  {
   "cell_type": "code",
   "execution_count": null,
   "id": "f9ecf578",
   "metadata": {},
   "outputs": [],
   "source": [
    "## Designer Door Mat"
   ]
  },
  {
   "cell_type": "code",
   "execution_count": 50,
   "id": "d9691aee",
   "metadata": {},
   "outputs": [
    {
     "name": "stdout",
     "output_type": "stream",
     "text": [
      "7 21\n",
      "---------.|.---------\n",
      "------.|..|..|.------\n",
      "---.|..|..|..|..|.---\n",
      "-------WELCOME-------\n",
      "---.|..|..|..|..|.---\n",
      "------.|..|..|.------\n",
      "---------.|.---------\n"
     ]
    }
   ],
   "source": [
    "if __name__ == '__main__':\n",
    "    N, M = map(int, input().split())\n",
    "    diamond = 1\n",
    "    for n in range(N):\n",
    "        if n < (N/2) - 1:\n",
    "            print(\"-\"*int((M-diamond*3)/2)+\".|.\"*diamond+\"-\"*int((M-diamond*3)/2))\n",
    "            diamond += 2\n",
    "        elif n> (N/2) :\n",
    "            diamond -= 2\n",
    "            print(\"-\"*int((M-diamond*3)/2)+\".|.\"*diamond+\"-\"*int((M-diamond*3)/2))            \n",
    "        else:\n",
    "            print(\"-\"*int((M-7)/2)+\"WELCOME\"+\"-\"*int((M-7)/2))\n",
    "            "
   ]
  },
  {
   "cell_type": "code",
   "execution_count": 47,
   "id": "9c6eb0f9",
   "metadata": {},
   "outputs": [
    {
     "data": {
      "text/plain": [
       "10.0"
      ]
     },
     "execution_count": 47,
     "metadata": {},
     "output_type": "execute_result"
    }
   ],
   "source": [
    "## String Formatting"
   ]
  },
  {
   "cell_type": "code",
   "execution_count": 13,
   "id": "d38587e1",
   "metadata": {},
   "outputs": [
    {
     "name": "stdin",
     "output_type": "stream",
     "text": [
      " 1\n"
     ]
    },
    {
     "name": "stdout",
     "output_type": "stream",
     "text": [
      "1 1 1 1\n"
     ]
    }
   ],
   "source": [
    "def print_formatted(number):\n",
    "    # your code goes here\n",
    "    for i in range(1, number+1):\n",
    "        binary = str(bin(i))[2:]\n",
    "        octal = str(oct(i))[2:]\n",
    "        hexa = str(hex(i))[2:].upper()\n",
    "        spacing = len(bin(number)) -1\n",
    "        print(\" \" * (spacing -1 - len(str(i)))+str(i)+\n",
    "              \" \" * (spacing - len(octal))+str(octal)+\n",
    "              \" \" * (spacing - len(hexa)) + str(hexa)+\n",
    "              \" \" * (spacing - len(binary)) + str(binary))\n",
    "    return\n",
    "\n",
    "if __name__ == '__main__':\n",
    "    n = int(input())\n",
    "    print_formatted(n)"
   ]
  },
  {
   "cell_type": "code",
   "execution_count": 14,
   "id": "6d8fde15",
   "metadata": {},
   "outputs": [],
   "source": [
    "## Alphabet Rangoli"
   ]
  },
  {
   "cell_type": "code",
   "execution_count": 46,
   "id": "4512fc8a-0bce-40fe-93dd-1eb65573ca8f",
   "metadata": {},
   "outputs": [
    {
     "name": "stdin",
     "output_type": "stream",
     "text": [
      " 1\n"
     ]
    },
    {
     "name": "stdout",
     "output_type": "stream",
     "text": [
      "a\n"
     ]
    }
   ],
   "source": [
    "def print_rangoli(size):\n",
    "    # your code goes here\n",
    "    alphabets = list(map(chr, range(97, 123)))\n",
    "    N = 2*size - 1\n",
    "    M = 4*size - 3\n",
    "    for row in range(N):\n",
    "        if row < size:\n",
    "            alpha = alphabets[(size-row)-1:size]\n",
    "            alpha_str = \"-\".join( alpha[::-1][:-1]+ alpha )\n",
    "            padding = \"-\"*int((M-len(alpha_str))/2)\n",
    "            print(padding + alpha_str + padding)\n",
    "        else:\n",
    "            row = N - row -1\n",
    "            alpha = alphabets[(size-row)-1:size]\n",
    "            alpha_str = \"-\".join(alpha[::-1][:-1]+ alpha )\n",
    "            padding = \"-\"*int((M-len(alpha_str))/2)\n",
    "            print(padding + alpha_str + padding)\n",
    "\n",
    "if __name__ == '__main__':\n",
    "    n = int(input())\n",
    "    print_rangoli(n)"
   ]
  },
  {
   "cell_type": "code",
   "execution_count": null,
   "id": "9eaefdb9-9e55-418d-9450-a53283df97af",
   "metadata": {},
   "outputs": [],
   "source": [
    "## Capitalize!"
   ]
  },
  {
   "cell_type": "code",
   "execution_count": 47,
   "id": "10607848-68e7-48a8-b385-fc028cbc99d6",
   "metadata": {},
   "outputs": [
    {
     "ename": "KeyError",
     "evalue": "'OUTPUT_PATH'",
     "output_type": "error",
     "traceback": [
      "\u001b[1;31m---------------------------------------------------------------------------\u001b[0m",
      "\u001b[1;31mKeyError\u001b[0m                                  Traceback (most recent call last)",
      "\u001b[1;32m~\\AppData\\Local\\Temp/ipykernel_4716/541822872.py\u001b[0m in \u001b[0;36m<module>\u001b[1;34m\u001b[0m\n\u001b[0;32m     14\u001b[0m \u001b[1;33m\u001b[0m\u001b[0m\n\u001b[0;32m     15\u001b[0m \u001b[1;32mif\u001b[0m \u001b[0m__name__\u001b[0m \u001b[1;33m==\u001b[0m \u001b[1;34m'__main__'\u001b[0m\u001b[1;33m:\u001b[0m\u001b[1;33m\u001b[0m\u001b[1;33m\u001b[0m\u001b[0m\n\u001b[1;32m---> 16\u001b[1;33m     \u001b[0mfptr\u001b[0m \u001b[1;33m=\u001b[0m \u001b[0mopen\u001b[0m\u001b[1;33m(\u001b[0m\u001b[0mos\u001b[0m\u001b[1;33m.\u001b[0m\u001b[0menviron\u001b[0m\u001b[1;33m[\u001b[0m\u001b[1;34m'OUTPUT_PATH'\u001b[0m\u001b[1;33m]\u001b[0m\u001b[1;33m,\u001b[0m \u001b[1;34m'w'\u001b[0m\u001b[1;33m)\u001b[0m\u001b[1;33m\u001b[0m\u001b[1;33m\u001b[0m\u001b[0m\n\u001b[0m\u001b[0;32m     17\u001b[0m \u001b[1;33m\u001b[0m\u001b[0m\n\u001b[0;32m     18\u001b[0m     \u001b[0ms\u001b[0m \u001b[1;33m=\u001b[0m \u001b[0minput\u001b[0m\u001b[1;33m(\u001b[0m\u001b[1;33m)\u001b[0m\u001b[1;33m\u001b[0m\u001b[1;33m\u001b[0m\u001b[0m\n",
      "\u001b[1;32mE:\\Softwares\\anaconda3\\envs\\sapienza\\lib\\os.py\u001b[0m in \u001b[0;36m__getitem__\u001b[1;34m(self, key)\u001b[0m\n\u001b[0;32m    677\u001b[0m         \u001b[1;32mexcept\u001b[0m \u001b[0mKeyError\u001b[0m\u001b[1;33m:\u001b[0m\u001b[1;33m\u001b[0m\u001b[1;33m\u001b[0m\u001b[0m\n\u001b[0;32m    678\u001b[0m             \u001b[1;31m# raise KeyError with the original key value\u001b[0m\u001b[1;33m\u001b[0m\u001b[1;33m\u001b[0m\u001b[0m\n\u001b[1;32m--> 679\u001b[1;33m             \u001b[1;32mraise\u001b[0m \u001b[0mKeyError\u001b[0m\u001b[1;33m(\u001b[0m\u001b[0mkey\u001b[0m\u001b[1;33m)\u001b[0m \u001b[1;32mfrom\u001b[0m \u001b[1;32mNone\u001b[0m\u001b[1;33m\u001b[0m\u001b[1;33m\u001b[0m\u001b[0m\n\u001b[0m\u001b[0;32m    680\u001b[0m         \u001b[1;32mreturn\u001b[0m \u001b[0mself\u001b[0m\u001b[1;33m.\u001b[0m\u001b[0mdecodevalue\u001b[0m\u001b[1;33m(\u001b[0m\u001b[0mvalue\u001b[0m\u001b[1;33m)\u001b[0m\u001b[1;33m\u001b[0m\u001b[1;33m\u001b[0m\u001b[0m\n\u001b[0;32m    681\u001b[0m \u001b[1;33m\u001b[0m\u001b[0m\n",
      "\u001b[1;31mKeyError\u001b[0m: 'OUTPUT_PATH'"
     ]
    }
   ],
   "source": [
    "#!/bin/python3\n",
    "\n",
    "import math\n",
    "import os\n",
    "import random\n",
    "import re\n",
    "import sys\n",
    "\n",
    "# Complete the solve function below.\n",
    "def solve(s):\n",
    "    names= s.split(\" \")\n",
    "    result = [x[0:1].upper() + x[1:] for x in names]\n",
    "    return \" \".join(result)\n",
    "\n",
    "if __name__ == '__main__':\n",
    "    fptr = open(os.environ['OUTPUT_PATH'], 'w')\n",
    "\n",
    "    s = input()\n",
    "\n",
    "    result = solve(s)\n",
    "\n",
    "    fptr.write(result + '\\n')\n",
    "\n",
    "    fptr.close()\n"
   ]
  },
  {
   "cell_type": "code",
   "execution_count": null,
   "id": "c5328e74-e3c3-4202-84fe-627245f31f2f",
   "metadata": {},
   "outputs": [],
   "source": [
    "## The Minion Game"
   ]
  },
  {
   "cell_type": "code",
   "execution_count": 57,
   "id": "7b182b9e-12f6-452a-ac97-3a6daf172a16",
   "metadata": {},
   "outputs": [
    {
     "name": "stdin",
     "output_type": "stream",
     "text": [
      " AS\n"
     ]
    },
    {
     "name": "stdout",
     "output_type": "stream",
     "text": [
      "Kevin 2\n"
     ]
    }
   ],
   "source": [
    "def minion_game(string):\n",
    "    # your code goes here\n",
    "    vowels = 'AEIOU'\n",
    "    kev = 0\n",
    "    stu = 0\n",
    "    for char_idx in range(len(string)):\n",
    "        start_char = string[char_idx]\n",
    "        words = len(string) - char_idx\n",
    "        if start_char in vowels:\n",
    "            kev+= words\n",
    "        else:\n",
    "            stu+= words\n",
    "                \n",
    "    if kev > stu:\n",
    "        print('Kevin', kev)\n",
    "    elif stu > kev:\n",
    "        print('Stuart', stu)\n",
    "    else:\n",
    "        print('Draw')\n",
    "    \n",
    "    return\n",
    "                \n",
    "\n",
    "if __name__ == '__main__':\n",
    "    s = input()\n",
    "    minion_game(s)"
   ]
  },
  {
   "cell_type": "code",
   "execution_count": 48,
   "id": "abe3d2e0-7515-4b4b-ac92-5b228114c30b",
   "metadata": {},
   "outputs": [
    {
     "ename": "SyntaxError",
     "evalue": "cannot assign to operator (Temp/ipykernel_4716/1119624048.py, line 1)",
     "output_type": "error",
     "traceback": [
      "\u001b[1;36m  File \u001b[1;32m\"C:\\Users\\mahir\\AppData\\Local\\Temp/ipykernel_4716/1119624048.py\"\u001b[1;36m, line \u001b[1;32m1\u001b[0m\n\u001b[1;33m    for i+1 in range(3):\u001b[0m\n\u001b[1;37m        ^\u001b[0m\n\u001b[1;31mSyntaxError\u001b[0m\u001b[1;31m:\u001b[0m cannot assign to operator\n"
     ]
    }
   ],
   "source": [
    "## Merge the Tools!"
   ]
  },
  {
   "cell_type": "code",
   "execution_count": 67,
   "id": "2bbeb464-50f2-4e9b-8341-8a1f9c01c8ad",
   "metadata": {},
   "outputs": [
    {
     "name": "stdin",
     "output_type": "stream",
     "text": [
      " AABCAAADAAABCAAADA\n",
      " 6\n"
     ]
    },
    {
     "name": "stdout",
     "output_type": "stream",
     "text": [
      "ABC\n",
      "ADB\n",
      "CAD\n"
     ]
    }
   ],
   "source": [
    "def merge_the_tools(string, k):\n",
    "    # your code goes here\n",
    "    for i in range(0,len(string),k):\n",
    "        subs = string[i:i+k]\n",
    "        print(\"\".join(list(dict.fromkeys(subs).keys())))\n",
    "    \n",
    "    return\n",
    "\n",
    "if __name__ == '__main__':\n",
    "    string, k = input(), int(input())\n",
    "    merge_the_tools(string, k)"
   ]
  },
  {
   "cell_type": "raw",
   "id": "d7809637-88db-415c-add1-da8ba053cd79",
   "metadata": {},
   "source": []
  }
 ],
 "metadata": {
  "kernelspec": {
   "display_name": "Python 3 (ipykernel)",
   "language": "python",
   "name": "python3"
  },
  "language_info": {
   "codemirror_mode": {
    "name": "ipython",
    "version": 3
   },
   "file_extension": ".py",
   "mimetype": "text/x-python",
   "name": "python",
   "nbconvert_exporter": "python",
   "pygments_lexer": "ipython3",
   "version": "3.9.7"
  }
 },
 "nbformat": 4,
 "nbformat_minor": 5
}
